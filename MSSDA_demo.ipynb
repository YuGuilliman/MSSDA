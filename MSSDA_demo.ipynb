{
 "cells": [
  {
   "cell_type": "code",
   "execution_count": 1,
   "id": "initial_id",
   "metadata": {},
   "outputs": [
    {
     "name": "stdout",
     "output_type": "stream",
     "text": [
      "device:  cuda\n"
     ]
    }
   ],
   "source": [
    "import torch\n",
    "device = torch.device(\"cuda\" if torch.cuda.is_available() else \"cpu\")\n",
    "print(\"device: \",device)\n",
    "\n",
    "import argparse\n",
    "import os\n",
    "import numpy as np\n",
    "def seed_everything(seed=1234):\n",
    "    import random\n",
    "    random.seed(seed)\n",
    "    torch.manual_seed(seed)\n",
    "    torch.cuda.manual_seed_all(seed)\n",
    "    np.random.seed(seed)\n",
    "    import os\n",
    "    os.environ['PYTHONHASHSEED'] = str(seed)"
   ]
  },
  {
   "cell_type": "code",
   "execution_count": 2,
   "id": "746927e16aa7875f",
   "metadata": {
    "collapsed": false,
    "jupyter": {
     "outputs_hidden": false
    }
   },
   "outputs": [],
   "source": [
    "parser = argparse.ArgumentParser(description='Created by Yan Zhong ')\n",
    "# dataset parameters\n",
    "parser.add_argument('--lr', '--learning-rate', default=1e-2, type=float,\n",
    "                    metavar='LR', help='initial learning rate', dest='lr')\n",
    "\n",
    "\n",
    "parser.add_argument('--seed', default=8, type=int, help='seed')\n",
    "parser.add_argument('--sl', '--segment_length', default=147, type=int, help='the length of segmented data, '\n",
    "                                                                           'the value should be n *21')\n",
    "parser.add_argument('--nd', '--num_domains', default=2, type=int, help='split all data into num_domains domains')\n",
    "\n",
    "\n",
    "parser.add_argument('--dt', '--data_transform', action=\"store_false\", default=True,\n",
    "                    help='apply augmentations on source data')\n",
    "parser.add_argument('--db', action=\"store_false\", default=True,\n",
    "                    help='apply label balanced on source dataset')\n",
    "\n",
    "parser.add_argument('--momentum', default=0.9, type=float, metavar='M', help='momentum')\n",
    "parser.add_argument('--weight-decay', default=1e-4, type=float,\n",
    "                    metavar='W', help='weight decay (default: 1e-4)',\n",
    "                    dest='weight_decay')\n",
    "parser.add_argument('--lr-gamma', default=0.001, type=float, help='parameter for lr scheduler')\n",
    "parser.add_argument('--lr-decay', default=0.75, type=float, help='parameter for lr scheduler')\n",
    "\n",
    "parser.add_argument('--ne', '--num-epoch', type=int, default=30, help='all samples from source dataset '\n",
    "                                                                      'should be used in a num_epoch')\n",
    "parser.add_argument('--bs', '--batch_size', type=int, default= 32)\n",
    "parser.add_argument('--nw', '--num_workers', type=int, default=0)\n",
    "\n",
    "\n",
    "\n",
    "parser.add_argument('--optimizer', choices=['sgd', 'adam'], default='adam', help='Optimizer choice: SGD or Adam')\n",
    "\n",
    "parser.add_argument('--weight_init', choices=['Gaussian', 'Xavier','Kaiming','No'], default='Xavier', help='weight init methods')\n",
    "\n",
    "\n",
    "\n",
    "parser.add_argument('--ew',  type=float, default=0.2)\n",
    "parser.add_argument('--gw', '--grl_weight', type=float, default=1.5,\n",
    "                    help='it will be used as negative,so the input should > 0')\n",
    "\n",
    "\n",
    "parser.add_argument('--eval_step', type=int, default=1)\n",
    "flags = parser.parse_args(args=[])\n",
    "args=flags"
   ]
  },
  {
   "cell_type": "code",
   "execution_count": 3,
   "id": "18cdfe6b",
   "metadata": {},
   "outputs": [
    {
     "name": "stdout",
     "output_type": "stream",
     "text": [
      "/root/MSSDA_1212VER\n",
      "/root/MSSDA_1212VER\n"
     ]
    }
   ],
   "source": [
    "%cd /root/MSSDA_1212VER\n",
    "!pwd\n"
   ]
  },
  {
   "cell_type": "code",
   "execution_count": 4,
   "id": "cab53bcded84f5ec",
   "metadata": {
    "collapsed": false,
    "jupyter": {
     "outputs_hidden": false
    }
   },
   "outputs": [
    {
     "name": "stderr",
     "output_type": "stream",
     "text": [
      "2024-12-15 13:54:55.261144: I tensorflow/core/util/port.cc:110] oneDNN custom operations are on. You may see slightly different numerical results due to floating-point round-off errors from different computation orders. To turn them off, set the environment variable `TF_ENABLE_ONEDNN_OPTS=0`.\n",
      "2024-12-15 13:54:55.321339: I tensorflow/core/platform/cpu_feature_guard.cc:182] This TensorFlow binary is optimized to use available CPU instructions in performance-critical operations.\n",
      "To enable the following instructions: AVX2 AVX512F AVX512_VNNI AVX512_BF16 AVX_VNNI AMX_TILE AMX_INT8 AMX_BF16 FMA, in other operations, rebuild TensorFlow with the appropriate compiler flags.\n",
      "2024-12-15 13:54:56.204146: W tensorflow/compiler/tf2tensorrt/utils/py_utils.cc:38] TF-TRT Warning: Could not find TensorRT\n"
     ]
    }
   ],
   "source": [
    "import argparse\n",
    "\n",
    "from basedOnSplitDataset.utils import mmd,turn_to_dic,dic_div\n",
    "from domainCluster.domain_seperaterANDcluster import *\n",
    "import torch.nn as nn\n",
    "import torch.nn.functional as F\n",
    "from torch.optim import SGD\n",
    "from torch.optim.lr_scheduler import LambdaLR\n",
    "import torchvision.transforms as transforms\n",
    "from myDataset.myDataLoader import ForeverDataIterator\n",
    "from basedOnSplitDataset.SDmyDataset import *\n",
    "from tensorboardX import SummaryWriter\n",
    "import torch.optim as optim\n",
    "from augmentation.augmentation import *\n",
    "from basedOnSplitDataset.utils import *\n",
    "from basedOnSplitDataset.SDmyDataset import DatasetFromSplitData,mySubset\n",
    "from torch.utils.data import Subset, DataLoader\n",
    "from tqdm import trange\n",
    "from modules.domainSpecificLayer import domainSpecifictLayer\n",
    "from modules.domainSpecificLayer import *\n",
    "from basedOnSplitDataset.utils import *\n"
   ]
  },
  {
   "cell_type": "code",
   "execution_count": null,
   "id": "c96ade685fae78ad",
   "metadata": {
    "collapsed": false,
    "jupyter": {
     "outputs_hidden": false
    }
   },
   "outputs": [],
   "source": []
  },
  {
   "cell_type": "code",
   "execution_count": 5,
   "id": "77b9dda7cb0088cb",
   "metadata": {
    "collapsed": false,
    "jupyter": {
     "outputs_hidden": false
    }
   },
   "outputs": [
    {
     "name": "stdout",
     "output_type": "stream",
     "text": [
      "[easydl] tensorflow not available!\n"
     ]
    }
   ],
   "source": [
    "import torch.nn.init as init\n",
    "\n",
    "from modules.new_discriminator import DomainDiscriminator,DomainAdversarialLoss\n",
    "from modules.classifier import Classifier\n",
    "from modules.oneDCNN import OneDCNNBackbone,domainSpecifictLayer\n",
    "from basedOnSplitDataset.utils import Xavier_initialize_weights,kaiming_initialize_weights,Gaussian_weights_init\n",
    "def myNet(device,pre_filename,totalDataset:DatasetFromSplitData,domain_num:int,centers, args: argparse.Namespace):\n",
    "   \n",
    "    tgt_accList=[]\n",
    "    src_accList=[]\n",
    "    true_labelList=[]\n",
    "    # for split_index in trange(len(totalDataset.nameList)):\n",
    "    for split_index in trange(1,2):\n",
    "    #for lalal in trange(len(notoklist)):\n",
    "        #split_index=notoklist[lalal]\n",
    "        num_domain=args.nd\n",
    "        print(\"=> runnnnnnning! =>\")\n",
    "        extractorList=[]\n",
    "        classifierList=[]\n",
    "        domain_discriList=[]\n",
    "        domain_advList=[]\n",
    "        optimizerList=[]\n",
    "        lr_schedulerList=[]\n",
    "        for i in range(domain_num):\n",
    "            extractor = OneDCNNBackbone().to(device)\n",
    "            classifier = domainSpecifictLayer(inplanes=256, planes=128, classifier_in=640).to(device)\n",
    "            domain_discri = DomainDiscriminator(in_feature=640,hidden_size=320,batch_norm=False).to(device)\n",
    "            domain_adv = DomainAdversarialLoss(domain_discri).to(device)\n",
    "            \n",
    "            if args.optimizer == 'sgd':\n",
    "               \n",
    "                optimizer = SGD(extractor.get_parameters(lr=args.lr)+classifier.get_parameters(lr=args.lr) + domain_discri.get_parameters(),\n",
    "                             lr=args.lr, momentum=args.momentum, weight_decay=args.weight_decay, nesterov=True)\n",
    "            elif args.optimizer == 'adam':\n",
    "              \n",
    "                optimizer = optim.Adam(extractor.get_parameters(lr=args.lr)+classifier.get_parameters(lr=args.lr) + domain_discri.get_parameters(lr=args.lr*0.1),\n",
    "                            lr=args.lr, weight_decay=args.weight_decay)\n",
    "            else:\n",
    "                raise ValueError(\"Invalid optimizer choice. Please choose 'sgd' or 'adam'.\")\n",
    "            lr_scheduler = LambdaLR(optimizer, lambda x: args.lr * (1. + args.lr_gamma * float(x)) ** (-args.lr_decay))\n",
    "            \n",
    "            extractorList.append(extractor)\n",
    "            classifierList.append(classifier)\n",
    "            domain_discriList.append(domain_discri)\n",
    "            domain_advList.append(domain_adv)\n",
    "            optimizerList.append(optimizer)\n",
    "            lr_schedulerList.append(lr_scheduler)\n",
    "        \n",
    "        extractorList=tuple(extractorList)\n",
    "        classifierList=tuple(classifierList)\n",
    "        domain_discriList=tuple(domain_discriList)\n",
    "        domain_advList=tuple(domain_advList)\n",
    "        optimizerList=tuple(optimizerList)\n",
    "        lr_schedulerList=tuple(lr_schedulerList)\n",
    "\n",
    "\n",
    "        \n",
    "        tgt_acc,src_acc,true_label=train(device=device,k=domain_num,pre_filename=pre_filename,\n",
    "                         totalDataset=totalDataset,extractorList=extractorList,classifierList= classifierList,centers=centers,\n",
    "                         discriminatorList=domain_discriList,domain_advList=domain_advList,split_index=split_index,\n",
    "                         optimizerList=optimizerList, lr_schedulerList=lr_schedulerList,args=args)\n",
    "        \n",
    "      \n",
    "        print(\"##\"*50)\n",
    "        print((\"i={}, tgt_acc={} ,src_acc={},true_label={}\").format(split_index,tgt_acc[-1],src_acc,true_label))\n",
    "        print(\"##\"*50)\n",
    "        tgt_accList.append(tgt_acc)\n",
    "        src_accList.append(src_acc)\n",
    "        true_labelList.append(true_label)\n",
    "        \n",
    "\n",
    "    return  tgt_accList,src_accList, true_labelList"
   ]
  },
  {
   "cell_type": "code",
   "execution_count": 6,
   "id": "43d3cd601f236d00",
   "metadata": {
    "collapsed": false,
    "jupyter": {
     "outputs_hidden": false
    }
   },
   "outputs": [],
   "source": [
    "\n",
    "import argparse\n",
    "\n",
    "from torch import nn\n",
    "import torch\n",
    "import numpy as np\n",
    "from torch.utils.tensorboard import SummaryWriter\n",
    "from torch.utils.data import DataLoader, Dataset\n",
    "import os\n",
    "import torch.nn.functional as F\n",
    "from visualization.tSNE import *\n",
    "\n",
    "\n",
    "\n",
    "def eval_model(device,k,pre_filename,args: argparse.Namespace,epoch,target_Loader:DataLoader,seed_used:int, \n",
    "               extractorList,classifierList,domain_advList,sortedTgtDomainTagList,filename:str):\n",
    "    # k:num_domains\n",
    "    criterion = nn.CrossEntropyLoss()\n",
    "\n",
    "    \n",
    "    predList=[]\n",
    "    datanum=0\n",
    "   \n",
    "    \n",
    "    countlist=[0 for _ in range(len(sortedTgtDomainTagList))]\n",
    "    eval_data=target_Loader\n",
    "    targetLoader_all_iter=ForeverDataIterator(target_Loader)\n",
    "    inputs_t, labels_t, name_t, domains_t, distance_seq_t = next(targetLoader_all_iter)[:]\n",
    "    from collections import Counter\n",
    "    domains=np.array(domains_t).tolist()\n",
    "   \n",
    "    counter = Counter(domains)\n",
    "    \n",
    "    for i in range(len(sortedTgtDomainTagList)):\n",
    "        domainTagtmp=sortedTgtDomainTagList[i]\n",
    "        countlist[i]=counter[domainTagtmp]\n",
    "    \n",
    "    \n",
    "    print(\"TTTTT\" * 40)\n",
    "    for domainTag in sortedTgtDomainTagList:\n",
    "        running_loss = 0.0\n",
    "        running_corrects = 0\n",
    "        running_loss_domain=0.0\n",
    "        # Iterate over data.\n",
    "        \n",
    "        \n",
    "        \n",
    "        extractor= extractorList[domainTag]\n",
    "        classifier=classifierList[domainTag]\n",
    "        domain_adv=domain_advList[domainTag]\n",
    "        \n",
    "        extractor.eval().to(device)\n",
    "        classifier.eval().to(device)\n",
    "        domain_adv.eval().to(device)\n",
    "        \n",
    "      \n",
    "        rightList_domain_view=[]\n",
    "        rightList_class_view=[]\n",
    "    \n",
    "        domian_count=[]\n",
    "        class_count=[]\n",
    "    \n",
    "        label_1_feature=[]\n",
    "        label_0_feature=[]\n",
    "        \n",
    "        for inputs_t, labels_t, name_t, domains_t, distance_seq_t in eval_data:\n",
    "            with torch.no_grad():\n",
    "                \n",
    "    \n",
    "                inputs_t = inputs_t.float().to(device)\n",
    "                labels_t = labels_t.to(device)\n",
    "                \n",
    "                y_true=labels_t\n",
    "                \n",
    "               \n",
    "                z_t = extractor(inputs_t)\n",
    "    \n",
    "                bs=inputs_t.shape[0]\n",
    "                for i in range(bs):\n",
    "                    if labels_t[i].item()==0:\n",
    "                        label_0_feature.append(z_t[i].view(1,-1).cpu())\n",
    "                    elif labels_t[i].item()==1:\n",
    "                        label_1_feature.append(z_t[i].view(1,-1).cpu())\n",
    "                \n",
    "         \n",
    "                _,y_t=classifier(z_t)\n",
    "                predList.append(y_t)\n",
    "                \n",
    "                loss = criterion(y_t, labels_t)\n",
    "               \n",
    "                _, preds = torch.max(y_t, 1)\n",
    "                \n",
    "                # statistics\n",
    "                running_loss += loss * inputs_t.size(0)\n",
    "                running_corrects += torch.sum(preds == labels_t.data).item()\n",
    "              \n",
    "                for i in range(bs):\n",
    "                    class_count.append(labels_t[i].item())\n",
    "                    domian_count.append(domains_t[i].item())\n",
    "                    if preds[i]==labels_t[i].data:\n",
    "                        rightList_domain_view.append(domains_t[i].item())\n",
    "                        rightList_class_view.append(labels_t[i].item())\n",
    "                data_num = inputs_t.size(0)\n",
    "        #print(\"label_0_feature[0].shape\", label_0_feature[0].shape)\n",
    "        #label_0_feature = torch.cat(label_0_feature, dim=0)\n",
    "        #label_1_feature = torch.cat(label_1_feature, dim = 0)\n",
    "        #print(\"label_0_feature.shape\",label_0_feature.shape)\n",
    "      \n",
    "        #visualize_label(label_0_feature,label_1_feature,filename=pre_filename+'eval_'+str(epoch)+'_tsne.png')\n",
    "    \n",
    "        all_class_counts_dic = turn_to_dic(class_count)\n",
    "        all_domain_counts_dic=turn_to_dic(domian_count)\n",
    "        right_class_counts_domain_view_dic=turn_to_dic(rightList_domain_view)\n",
    "        right_class_counts_class_view_dic = turn_to_dic(rightList_class_view)\n",
    "        \n",
    "      \n",
    "    \n",
    "        epoch_loss = running_loss / data_num\n",
    "        epoch_acc = running_corrects / data_num\n",
    "        epoch_loss_domain = running_loss_domain \n",
    "        \n",
    "        log = 'Eval: Epoch: {},domainTag={}, Loss: {:.4f}, i_tgt_Acc: {:.4f} '.format(epoch,domainTag, epoch_loss, epoch_acc)\n",
    "        print(log)\n",
    "        \n",
    "    # print(\"--target\" * 10)\n",
    "        \n",
    "\n",
    "    \n",
    "    # fenmu=sum(countlist)\n",
    "    # summed=predList[0]*countlist[0]/fenmu\n",
    "    # if len(sortedTgtDomainTagList)>1:\n",
    "    #     for i in range(1,len(sortedTgtDomainTagList)):\n",
    "    #         summed+=predList[i]*countlist[i]/fenmu\n",
    "    # summed_list =torch.divide(summed,len(sortedTgtDomainTagList))\n",
    "    \n",
    "    fenmu=len(sortedTgtDomainTagList)\n",
    "    summed=predList[0]/fenmu\n",
    "    if len(sortedTgtDomainTagList)>1:\n",
    "        for i in range(1,len(sortedTgtDomainTagList)):\n",
    "            summed+=predList[i]/fenmu\n",
    "    summed_list=summed\n",
    "    \n",
    "     \n",
    "\n",
    "    \n",
    " \n",
    "    _, sum_preds = torch.max(summed_list, 1)\n",
    "    after_sum_running_corrects = torch.sum(sum_preds == y_true).item()\n",
    "    after_sum_tgt_acc=after_sum_running_corrects/ data_num\n",
    "    print(\"-----\" * 40)\n",
    "    print(\"Eval: Epoch: {}, after summing the logistic values from the domain {}，TGT_Acc: {:.4f}\".format(epoch, sortedTgtDomainTagList, after_sum_tgt_acc))\n",
    "    print(\"TTTTT\" * 40)\n",
    "    return after_sum_tgt_acc"
   ]
  },
  {
   "cell_type": "markdown",
   "id": "a66eff487ac3922",
   "metadata": {},
   "source": []
  },
  {
   "cell_type": "code",
   "execution_count": 7,
   "id": "435e989bd3d902ff",
   "metadata": {
    "collapsed": false,
    "jupyter": {
     "outputs_hidden": false
    }
   },
   "outputs": [],
   "source": [
    "from basedOnSplitDataset.utils import seed_everything,HLoss,euclidean_distance,turn_to_dic,dic_div\n",
    "from torchvision.transforms.transforms import *\n",
    "from PIL import Image\n",
    "\n",
    "\n",
    "def train(device,pre_filename,k:int,totalDataset:DatasetFromSplitData,domain_advList,\n",
    "          extractorList,classifierList,discriminatorList,centers,\n",
    "          optimizerList,lr_schedulerList,split_index,\n",
    "          args: argparse.Namespace):\n",
    "\n",
    "    seed_used=args.seed\n",
    "    path = './'+pre_filename+'/result/'\n",
    "    \n",
    "    num_epoch = args.ne\n",
    "    batch_size = args.bs\n",
    "    num_workers = args.nw\n",
    "\n",
    "    \n",
    "\n",
    "    nameList = totalDataset.nameList.tolist()\n",
    "    target_indices = [nameList[split_index]]\n",
    "    # print(\"target_indices\",target_indices)\n",
    "    nameList.pop(split_index)\n",
    "    source_indices = nameList\n",
    "\n",
    "    \n",
    "    source = mySubset(totalDataset, source_indices, transform_part1=None, transform_part2 = None, balanced=0)\n",
    "    target = mySubset(totalDataset, target_indices, transform_part1=None, transform_part2 = None, balanced=0)\n",
    "    \n",
    "   \n",
    "    domain_tag_list=[i for i in range(k)]\n",
    "\n",
    "\n",
    "    \n",
    "    sourceLoader = DataLoader(dataset=source, batch_size=batch_size, shuffle=True, num_workers=num_workers,\n",
    "                              drop_last=True)\n",
    "    targetLoader = DataLoader(dataset=target, batch_size=batch_size, shuffle=True, num_workers=num_workers,\n",
    "                              drop_last=True)\n",
    "    \n",
    "    targetLoader_all= DataLoader(dataset=target, batch_size=len(target), shuffle=True, num_workers=num_workers,\n",
    "                              drop_last=False)\n",
    "    \n",
    "    source_iter=ForeverDataIterator(sourceLoader)\n",
    "    target_iter=ForeverDataIterator(targetLoader)\n",
    "\n",
    "    targetLoader_all_iter=ForeverDataIterator(targetLoader_all)\n",
    "    inputs_t, labels_t, name_t, domains_t, distance_seq_t = next(targetLoader_all_iter)[:]\n",
    "    from collections import Counter\n",
    "    domains=np.array(domains_t).tolist()\n",
    "\n",
    "    counter = Counter(domains)\n",
    "    \n",
    "    \n",
    "    \n",
    "    \n",
    "    \n",
    "    distances_to_centers = calculate_distances_to_centers(targetLoader_all, model=clusterEncoder, device=device, centers=centers,pca_dim=2, L2norm=False, )\n",
    "    \n",
    "    #c= np.sum(distances_to_centers, axis=0)\n",
    "    #here\n",
    "    c=np.amax(distances_to_centers, axis=0)\n",
    "    sorted_indices = np.argsort(c, axis=None)\n",
    "    \n",
    "    #here\n",
    "    sortedTgtDomainTagList=[]\n",
    "    sortedTgtDomainTagList.append(sorted_indices[0])\n",
    "    sortedTgtDomainTagList.append(sorted_indices[1])\n",
    "\n",
    "\n",
    "    sortedTgtDomainTagList = sorted(sortedTgtDomainTagList)\n",
    "    \n",
    "    \n",
    "    print(\"train_start\")\n",
    "    writerPath=path+'runs/domain_num_' + str(k) + '_seed_'+str(seed_used)\n",
    "    writer=SummaryWriter(writerPath)\n",
    "    \n",
    "    \n",
    "    entropy_criterion = HLoss()\n",
    "\n",
    "    source_iter_byDomain_list=[]\n",
    "    for i in range(k):\n",
    "        domain_tag=domain_tag_list[i]\n",
    "        i_source_dataset_byDomain = mySubset_bydomain(dataset=totalDataset, name_indices=source_indices,domain_tag=domain_tag, transform_part1=None, transform_part2=None,balanced=1)\n",
    "        i_sourceLoader = DataLoader(dataset=i_source_dataset_byDomain, batch_size=batch_size, shuffle=True, num_workers=num_workers,drop_last=True)\n",
    "        i_source_iter = ForeverDataIterator(i_sourceLoader)\n",
    "        source_iter_byDomain_list.append(i_source_iter)\n",
    "  \n",
    "\n",
    "\n",
    "    eval_acc_list = []\n",
    "    \n",
    "    true_label=-1\n",
    "    src_acc=-100\n",
    "    \n",
    "    \n",
    "    \n",
    "    for epoch in trange(num_epoch):\n",
    "        print(\"SSSSS\" * 40)\n",
    "        for domainTag in sortedTgtDomainTagList:\n",
    "            running_loss_class = 0.\n",
    "            running_correct_class = 0.\n",
    "            running_loss_domain = 0.\n",
    "            running_correct_domain = 0.\n",
    "            running_loss_entropy = 0.\n",
    "            running_loss_taxonomy = 0.\n",
    "    \n",
    "    \n",
    "            rightList_domain_view = []\n",
    "            rightList_class_view = []\n",
    "    \n",
    "            domian_count = []\n",
    "            class_count = []\n",
    "    \n",
    "            s_feature = []\n",
    "            t_feature = []\n",
    "            s_domain = []\n",
    "            t_domain = []\n",
    "            s_label = []\n",
    "            t_label = []\n",
    "            \n",
    "            extractor=extractorList[domainTag]\n",
    "            classifier=classifierList[domainTag]\n",
    "            domain_adv=domain_advList[domainTag]\n",
    "            discriminator=discriminatorList[domainTag]\n",
    "            optimizer=optimizerList[domainTag]\n",
    "            lr_scheduler=lr_schedulerList[domainTag]\n",
    "        \n",
    "            extractor.train()\n",
    "            classifier.train()\n",
    "            domain_adv.train()\n",
    "            discriminator.train()\n",
    "            \n",
    "            iter_per_epopch=len(source_iter_byDomain_list[domainTag])\n",
    "            # print(\"iter_per_epopch\",iter_per_epopch)\n",
    "                                \n",
    "            for i in range(iter_per_epopch):\n",
    "             \n",
    "                \n",
    "                optimizer.zero_grad()\n",
    "                    \n",
    "                inputs_s, labels_s, name_s, domains_s, distance_seq_s = next(source_iter_byDomain_list[domainTag])[:]\n",
    "                inputs_t, labels_t, name_t, domains_t, distance_seq_t = next(target_iter)[:]\n",
    "                \n",
    "                true_label=labels_t[0]\n",
    "                #print(\"domains_s.shape\",domains_s.shape)\n",
    "                \n",
    "                inputs_s = inputs_s.float().to(device)\n",
    "                inputs_t = inputs_t.float().to(device)\n",
    "    \n",
    "                labels_s = labels_s.to(device)\n",
    "    \n",
    "                z_s = extractor(inputs_s)\n",
    "                z_t = extractor(inputs_t)\n",
    "                \n",
    "\n",
    "                mid_s,y_s = classifier(z_s)\n",
    "                mid_t,y_t = classifier(z_t)\n",
    "                \n",
    "                loss_class = nn.CrossEntropyLoss(reduction='none')(y_s, labels_s).float()\n",
    "                loss_class = torch.mean(loss_class, dim=0, keepdim=True)\n",
    "    \n",
    "                loss_entropy = entropy_criterion(y_s).float()\n",
    "                \n",
    "                loss_domain=domain_adv(mid_s, mid_t)\n",
    "                domain_acc = domain_adv.domain_discriminator_accuracy\n",
    "                \n",
    "                gw=args.gw\n",
    "                total_loss = loss_class +  gw* loss_domain+args.ew*loss_entropy\n",
    "                \n",
    "                total_loss.backward()\n",
    "                optimizer.step()\n",
    "                lr_scheduler.step()\n",
    "                \n",
    "                _, pred_class = torch.max(y_s, 1)\n",
    "    \n",
    "                \n",
    "                running_loss_class += loss_class.item() * inputs_s.size(0)\n",
    "                running_correct_class += torch.sum(pred_class == labels_s.data)\n",
    "                running_loss_entropy += loss_entropy.item() * inputs_s.size(0)\n",
    "                running_loss_domain += loss_domain.item() * inputs_s.size(0)  \n",
    "                running_correct_domain += domain_acc* inputs_s.size(0)\n",
    "        \n",
    "                bs = inputs_s.shape[0]\n",
    "               \n",
    "                for i in range(bs):\n",
    "                    class_count.append(labels_s[i].item())\n",
    "                    domian_count.append(domains_s[i].item())\n",
    "    \n",
    "                    if pred_class[i] == labels_s[i].data:\n",
    "                        rightList_domain_view.append(domains_s[i].item())\n",
    "                        rightList_class_view.append(labels_s[i].item())\n",
    "            \n",
    "              \n",
    "        \n",
    "            all_class_counts_dic = turn_to_dic(class_count)\n",
    "            all_domain_counts_dic = turn_to_dic(domian_count)\n",
    "            right_class_counts_domain_view_dic = turn_to_dic(rightList_domain_view)\n",
    "            right_class_counts_class_view_dic =  turn_to_dic(rightList_class_view)\n",
    "            \n",
    "\n",
    "            tmp=iter_per_epopch*args.bs\n",
    "           \n",
    "            epoch_loss_class = running_loss_class/ tmp\n",
    "            epoch_acc_class = running_correct_class / tmp\n",
    "            epoch_loss_domain = running_loss_domain /tmp\n",
    "            epoch_acc_domain = running_correct_domain /tmp\n",
    "            epoch_loss_entropy = running_loss_entropy /tmp\n",
    "            \n",
    "    \n",
    "            \n",
    "            if  epoch==num_epoch-1:\n",
    "                src_acc=epoch_acc_class\n",
    "    \n",
    "            print(\"domain number: {}, loss class: {}, acc class: {}, loss domain: {}, \".format(domainTag,epoch_loss_class,epoch_acc_class,epoch_loss_domain))\n",
    "        \n",
    "        \n",
    "        \n",
    "        if epoch % args.eval_step == 0:\n",
    "            print(\"SSSSS\" * 40)\n",
    "            acc = eval_model(device=device,k=k,args=args,seed_used=seed_used,target_Loader=targetLoader_all,\n",
    "                             extractorList=extractorList,classifierList=classifierList,\n",
    "                             epoch=epoch,domain_advList=domain_advList,sortedTgtDomainTagList=sortedTgtDomainTagList,\n",
    "                             pre_filename=path,filename=(path + 'domain_num_' + str(k) + '_seed_'+str(seed_used)  + 'eval.txt'))\n",
    "            #nni.report_intermediate_result(acc)\n",
    "            eval_acc_list.append(acc)\n",
    "     \n",
    "        \n",
    "        \n",
    "\n",
    "    return  eval_acc_list,src_acc,true_label"
   ]
  },
  {
   "cell_type": "code",
   "execution_count": 8,
   "id": "ac57c2bde5c5c973",
   "metadata": {
    "collapsed": false,
    "jupyter": {
     "outputs_hidden": false
    }
   },
   "outputs": [],
   "source": [
    "\n",
    "%matplotlib inline"
   ]
  },
  {
   "cell_type": "code",
   "execution_count": 9,
   "id": "e41a2fd3a59061d2",
   "metadata": {
    "collapsed": false,
    "jupyter": {
     "outputs_hidden": false
    }
   },
   "outputs": [],
   "source": [
    "k=args.nd\n",
    "bs=batch_size=args.bs\n",
    "seed_used=args.seed"
   ]
  },
  {
   "cell_type": "code",
   "execution_count": 10,
   "id": "52c5637689780d74",
   "metadata": {
    "collapsed": false,
    "jupyter": {
     "outputs_hidden": false
    }
   },
   "outputs": [
    {
     "name": "stdout",
     "output_type": "stream",
     "text": [
      " start Getting data\n",
      "all data segmented\n",
      "get pseudo domain tages\n",
      "now domain_split\n",
      "before preprocess_features (6983, 20)\n",
      "self.pca_dim 2\n",
      "after preprocess_features (6983, 2)\n"
     ]
    },
    {
     "name": "stderr",
     "output_type": "stream",
     "text": [
      "100%|██████████| 23/23 [00:03<00:00,  5.78it/s]\n"
     ]
    },
    {
     "data": {
      "image/png": "[encoded data removed]",
      "text/plain": [
       "<Figure size 640x480 with 1 Axes>"
      ]
     },
     "metadata": {},
     "output_type": "display_data"
    }
   ],
   "source": [
    "\n",
    "file_path = \".txt\"\n",
    "from datetime import datetime\n",
    "\n",
    "current_datetime = datetime.now()\n",
    "\n",
    "formatted_datetime = current_datetime.strftime(\"%Y-%m-%d_%H%M%S\")\n",
    "\n",
    "from basedOnSplitDataset.loadAndCluster import giveDomainTag\n",
    "\n",
    "\n",
    "\n",
    "from basedOnSplitDataset.SDmyDataset import DatasetFromSplitData \n",
    "from preTrain.comet import COMET\n",
    "from preTrain.comet import COMET\n",
    "from datetime import datetime\n",
    "import os\n",
    "import numpy as np\n",
    "from torch.utils.tensorboard import SummaryWriter\n",
    "\n",
    "working_directory='./preTrain/model_weight/' \n",
    "if not os.path.exists(working_directory):\n",
    "    os.makedirs(working_directory)\n",
    "start_time = datetime.now()\n",
    "seed_everything(1234)\n",
    "pretrain_model = COMET(\n",
    "    input_dims=16,\n",
    "    device=device,\n",
    "    lr=1e-4,\n",
    "    depth=10,\n",
    "    batch_size=64,\n",
    "    output_dims=512,\n",
    "    flag_use_multi_gpu=False,\n",
    "    after_epoch_callback=None,\n",
    ")\n",
    "\n",
    "pretrain_model.load(f\"{working_directory}pretrain_model20240709_147c16_ver9.pt\")\n",
    "\n",
    "path='./clusterResult'\n",
    "writerPath=path+'runs/domain_num_' + str(k) + '_seed_'+str(seed_used)\n",
    "writer=SummaryWriter(writerPath)\n",
    "\n",
    "clusterEncoder=pretrain_model._net\n",
    "\n",
    "from torchvision.transforms.transforms import *\n",
    "from PIL import Image\n",
    "import torchvision.transforms as transforms\n",
    "import argparse\n",
    "from basedOnSplitDataset.SDmyDataset import DatasetFromSplitData,mySubset\n",
    "from torch import nn\n",
    "import torch\n",
    "import numpy as np\n",
    "from torch.utils.tensorboard import SummaryWriter\n",
    "from torch.utils.data import DataLoader, Dataset\n",
    "import os\n",
    "import torch.nn.functional as F\n",
    "from visualization.tSNE import *\n",
    "\n",
    "\n",
    "from domainCluster.domain_seperaterANDcluster_BIC_getClusterCentroid import domain_split\n",
    "from domainCluster.domain_seperaterANDcluster_BIC_getClusterCentroid import fit_gmm_with_dataloader\n",
    "from domainCluster.domain_seperaterANDcluster_BIC_getClusterCentroid import calculate_distances_to_centers\n",
    "from getTotoalDataset import totalDataset\n",
    "\n",
    "total_Loader = DataLoader(dataset=totalDataset, batch_size=batch_size, shuffle=False, num_workers=0,drop_last=False)\n",
    "\n",
    "print(\"get pseudo domain tages\")\n",
    "\n",
    "clusters_0 = np.ones([len(totalDataset), ])\n",
    "domain_tag,centers = domain_split(total_dataloader=total_Loader,model=clusterEncoder,\n",
    "                            device=device,cluster_before=clusters_0,filename=path + '/nmi.txt',\n",
    "                            epoch=-1, batchsize=batch_size,nmb_cluster=k, method='Kmeans',\n",
    "                            pca_dim=2, whitening=False, L2norm=False,writer=writer)\n",
    "\n",
    "\n",
    "\n",
    "\n",
    "\n",
    "\n",
    "before=totalDataset.name_segmented\n",
    "totalDataset.set_cluster_segmented(np.array(domain_tag))\n",
    "\n",
    "# totalDataset.set_distance_segmented(distances_between_centers)\n",
    "after=totalDataset.name_segmented\n",
    "\n",
    "\n",
    "\n",
    "\n",
    "\n",
    "totaldataset=totalDataset"
   ]
  },
  {
   "cell_type": "code",
   "execution_count": null,
   "id": "3fa7b9d551c4b7c",
   "metadata": {
    "collapsed": false,
    "jupyter": {
     "outputs_hidden": false
    }
   },
   "outputs": [],
   "source": []
  },
  {
   "cell_type": "code",
   "execution_count": 11,
   "id": "8a1aaaed0aa68dd3",
   "metadata": {
    "collapsed": false,
    "jupyter": {
     "outputs_hidden": false
    }
   },
   "outputs": [
    {
     "data": {
      "text/plain": [
       "6"
      ]
     },
     "execution_count": 11,
     "metadata": {},
     "output_type": "execute_result"
    }
   ],
   "source": [
    "k=args.nd\n",
    "seed=args.seed\n",
    "seed_everything(seed=seed)\n",
    "file_path_new = (formatted_datetime + str('domain_num_') + str(k) + str('_') + str(\"output_seed_\") + str(seed) + file_path)\n",
    "\n",
    "\n",
    "folder_path = './LeaveOneTest/DANN_baseline' + formatted_datetime\n",
    "os.makedirs(folder_path, exist_ok=True)\n",
    "parser_filename = folder_path + '/parser_info.txt'\n",
    "with open(parser_filename, 'a+') as f:\n",
    "    f.write(str(args))\n",
    "\n",
    "domains_tags=totaldataset.pseudo_domain_segmented\n",
    "from collections import Counter\n",
    "element_count = Counter(domains_tags)\n",
    "len(element_count) \n"
   ]
  },
  {
   "cell_type": "code",
   "execution_count": 12,
   "id": "f8c1e004c04a2c8a",
   "metadata": {
    "collapsed": false,
    "jupyter": {
     "outputs_hidden": false
    }
   },
   "outputs": [
    {
     "data": {
      "text/plain": [
       "135"
      ]
     },
     "execution_count": 12,
     "metadata": {},
     "output_type": "execute_result"
    }
   ],
   "source": [
    "len(totalDataset.nameList)"
   ]
  },
  {
   "cell_type": "code",
   "execution_count": 13,
   "id": "75a3eb55",
   "metadata": {},
   "outputs": [],
   "source": [
    "# target info:\n",
    "# patient 127, lable 0, man , age 32, duration 0.1"
   ]
  },
  {
   "cell_type": "code",
   "execution_count": 14,
   "id": "2603d0df8de9e5c7",
   "metadata": {
    "tags": []
   },
   "outputs": [
    {
     "name": "stderr",
     "output_type": "stream",
     "text": [
      "  0%|          | 0/1 [00:00<?, ?it/s]"
     ]
    },
    {
     "name": "stdout",
     "output_type": "stream",
     "text": [
      "=> runnnnnnning! =>\n",
      "train_start\n"
     ]
    },
    {
     "name": "stderr",
     "output_type": "stream",
     "text": [
      "\n",
      "  0%|          | 0/30 [00:00<?, ?it/s]\u001b[A"
     ]
    },
    {
     "name": "stdout",
     "output_type": "stream",
     "text": [
      "SSSSSSSSSSSSSSSSSSSSSSSSSSSSSSSSSSSSSSSSSSSSSSSSSSSSSSSSSSSSSSSSSSSSSSSSSSSSSSSSSSSSSSSSSSSSSSSSSSSSSSSSSSSSSSSSSSSSSSSSSSSSSSSSSSSSSSSSSSSSSSSSSSSSSSSSSSSSSSSSSSSSSSSSSSSSSSSSSSSSSSSSSSSSSSSSSSSSSSSS\n",
      "domain number: 0, loss class: 0.6653256047339666, acc class: 0.7083333730697632, loss domain: 0.6929744056292942, \n"
     ]
    },
    {
     "name": "stderr",
     "output_type": "stream",
     "text": [
      "\n",
      "  3%|▎         | 1/30 [00:00<00:28,  1.01it/s]\u001b[A"
     ]
    },
    {
     "name": "stdout",
     "output_type": "stream",
     "text": [
      "domain number: 5, loss class: 0.6598414239429292, acc class: 0.6889880895614624, loss domain: 0.6943021927561078, \n",
      "SSSSSSSSSSSSSSSSSSSSSSSSSSSSSSSSSSSSSSSSSSSSSSSSSSSSSSSSSSSSSSSSSSSSSSSSSSSSSSSSSSSSSSSSSSSSSSSSSSSSSSSSSSSSSSSSSSSSSSSSSSSSSSSSSSSSSSSSSSSSSSSSSSSSSSSSSSSSSSSSSSSSSSSSSSSSSSSSSSSSSSSSSSSSSSSSSSSSSSSS\n",
      "TTTTTTTTTTTTTTTTTTTTTTTTTTTTTTTTTTTTTTTTTTTTTTTTTTTTTTTTTTTTTTTTTTTTTTTTTTTTTTTTTTTTTTTTTTTTTTTTTTTTTTTTTTTTTTTTTTTTTTTTTTTTTTTTTTTTTTTTTTTTTTTTTTTTTTTTTTTTTTTTTTTTTTTTTTTTTTTTTTTTTTTTTTTTTTTTTTTTTTTT\n",
      "Eval: Epoch: 0,domainTag=0, Loss: 0.6871, i_tgt_Acc: 0.5128 \n",
      "Eval: Epoch: 0,domainTag=5, Loss: 0.6929, i_tgt_Acc: 0.5128 \n",
      "--------------------------------------------------------------------------------------------------------------------------------------------------------------------------------------------------------\n",
      "Eval: Epoch: 0, after summing the logistic values from the domain [0, 5]，TGT_Acc: 0.5128\n",
      "TTTTTTTTTTTTTTTTTTTTTTTTTTTTTTTTTTTTTTTTTTTTTTTTTTTTTTTTTTTTTTTTTTTTTTTTTTTTTTTTTTTTTTTTTTTTTTTTTTTTTTTTTTTTTTTTTTTTTTTTTTTTTTTTTTTTTTTTTTTTTTTTTTTTTTTTTTTTTTTTTTTTTTTTTTTTTTTTTTTTTTTTTTTTTTTTTTTTTTTT\n",
      "SSSSSSSSSSSSSSSSSSSSSSSSSSSSSSSSSSSSSSSSSSSSSSSSSSSSSSSSSSSSSSSSSSSSSSSSSSSSSSSSSSSSSSSSSSSSSSSSSSSSSSSSSSSSSSSSSSSSSSSSSSSSSSSSSSSSSSSSSSSSSSSSSSSSSSSSSSSSSSSSSSSSSSSSSSSSSSSSSSSSSSSSSSSSSSSSSSSSSSSS\n",
      "domain number: 0, loss class: 0.5346248618194035, acc class: 0.7633928656578064, loss domain: 0.690855860710144, \n"
     ]
    },
    {
     "name": "stderr",
     "output_type": "stream",
     "text": [
      "\n",
      "  7%|▋         | 2/30 [00:01<00:25,  1.09it/s]\u001b[A"
     ]
    },
    {
     "name": "stdout",
     "output_type": "stream",
     "text": [
      "domain number: 5, loss class: 0.5293336297784533, acc class: 0.78125, loss domain: 0.6933290986787706, \n",
      "SSSSSSSSSSSSSSSSSSSSSSSSSSSSSSSSSSSSSSSSSSSSSSSSSSSSSSSSSSSSSSSSSSSSSSSSSSSSSSSSSSSSSSSSSSSSSSSSSSSSSSSSSSSSSSSSSSSSSSSSSSSSSSSSSSSSSSSSSSSSSSSSSSSSSSSSSSSSSSSSSSSSSSSSSSSSSSSSSSSSSSSSSSSSSSSSSSSSSSSS\n",
      "TTTTTTTTTTTTTTTTTTTTTTTTTTTTTTTTTTTTTTTTTTTTTTTTTTTTTTTTTTTTTTTTTTTTTTTTTTTTTTTTTTTTTTTTTTTTTTTTTTTTTTTTTTTTTTTTTTTTTTTTTTTTTTTTTTTTTTTTTTTTTTTTTTTTTTTTTTTTTTTTTTTTTTTTTTTTTTTTTTTTTTTTTTTTTTTTTTTTTTTT\n",
      "Eval: Epoch: 1,domainTag=0, Loss: 0.7281, i_tgt_Acc: 0.3846 \n",
      "Eval: Epoch: 1,domainTag=5, Loss: 0.7946, i_tgt_Acc: 0.3077 \n",
      "--------------------------------------------------------------------------------------------------------------------------------------------------------------------------------------------------------\n",
      "Eval: Epoch: 1, after summing the logistic values from the domain [0, 5]，TGT_Acc: 0.2821\n",
      "TTTTTTTTTTTTTTTTTTTTTTTTTTTTTTTTTTTTTTTTTTTTTTTTTTTTTTTTTTTTTTTTTTTTTTTTTTTTTTTTTTTTTTTTTTTTTTTTTTTTTTTTTTTTTTTTTTTTTTTTTTTTTTTTTTTTTTTTTTTTTTTTTTTTTTTTTTTTTTTTTTTTTTTTTTTTTTTTTTTTTTTTTTTTTTTTTTTTTTTT\n",
      "SSSSSSSSSSSSSSSSSSSSSSSSSSSSSSSSSSSSSSSSSSSSSSSSSSSSSSSSSSSSSSSSSSSSSSSSSSSSSSSSSSSSSSSSSSSSSSSSSSSSSSSSSSSSSSSSSSSSSSSSSSSSSSSSSSSSSSSSSSSSSSSSSSSSSSSSSSSSSSSSSSSSSSSSSSSSSSSSSSSSSSSSSSSSSSSSSSSSSSSS\n",
      "domain number: 0, loss class: 0.38126568992932636, acc class: 0.8199405074119568, loss domain: 0.6903716325759888, \n"
     ]
    },
    {
     "name": "stderr",
     "output_type": "stream",
     "text": [
      "\n",
      " 10%|█         | 3/30 [00:02<00:24,  1.11it/s]\u001b[A"
     ]
    },
    {
     "name": "stdout",
     "output_type": "stream",
     "text": [
      "domain number: 5, loss class: 0.34865710068316685, acc class: 0.8467261791229248, loss domain: 0.6920030599548703, \n",
      "SSSSSSSSSSSSSSSSSSSSSSSSSSSSSSSSSSSSSSSSSSSSSSSSSSSSSSSSSSSSSSSSSSSSSSSSSSSSSSSSSSSSSSSSSSSSSSSSSSSSSSSSSSSSSSSSSSSSSSSSSSSSSSSSSSSSSSSSSSSSSSSSSSSSSSSSSSSSSSSSSSSSSSSSSSSSSSSSSSSSSSSSSSSSSSSSSSSSSSSS\n",
      "TTTTTTTTTTTTTTTTTTTTTTTTTTTTTTTTTTTTTTTTTTTTTTTTTTTTTTTTTTTTTTTTTTTTTTTTTTTTTTTTTTTTTTTTTTTTTTTTTTTTTTTTTTTTTTTTTTTTTTTTTTTTTTTTTTTTTTTTTTTTTTTTTTTTTTTTTTTTTTTTTTTTTTTTTTTTTTTTTTTTTTTTTTTTTTTTTTTTTTTT\n",
      "Eval: Epoch: 2,domainTag=0, Loss: 0.4568, i_tgt_Acc: 0.7692 \n",
      "Eval: Epoch: 2,domainTag=5, Loss: 0.7058, i_tgt_Acc: 0.5897 \n",
      "--------------------------------------------------------------------------------------------------------------------------------------------------------------------------------------------------------\n",
      "Eval: Epoch: 2, after summing the logistic values from the domain [0, 5]，TGT_Acc: 0.7949\n",
      "TTTTTTTTTTTTTTTTTTTTTTTTTTTTTTTTTTTTTTTTTTTTTTTTTTTTTTTTTTTTTTTTTTTTTTTTTTTTTTTTTTTTTTTTTTTTTTTTTTTTTTTTTTTTTTTTTTTTTTTTTTTTTTTTTTTTTTTTTTTTTTTTTTTTTTTTTTTTTTTTTTTTTTTTTTTTTTTTTTTTTTTTTTTTTTTTTTTTTTTT\n",
      "SSSSSSSSSSSSSSSSSSSSSSSSSSSSSSSSSSSSSSSSSSSSSSSSSSSSSSSSSSSSSSSSSSSSSSSSSSSSSSSSSSSSSSSSSSSSSSSSSSSSSSSSSSSSSSSSSSSSSSSSSSSSSSSSSSSSSSSSSSSSSSSSSSSSSSSSSSSSSSSSSSSSSSSSSSSSSSSSSSSSSSSSSSSSSSSSSSSSSSSS\n",
      "domain number: 0, loss class: 0.22026236000515165, acc class: 0.9226190447807312, loss domain: 0.688479000613803, \n"
     ]
    },
    {
     "name": "stderr",
     "output_type": "stream",
     "text": [
      "\n",
      " 13%|█▎        | 4/30 [00:03<00:22,  1.14it/s]\u001b[A"
     ]
    },
    {
     "name": "stdout",
     "output_type": "stream",
     "text": [
      "domain number: 5, loss class: 0.22463577914805638, acc class: 0.8898809552192688, loss domain: 0.69046570005871, \n",
      "SSSSSSSSSSSSSSSSSSSSSSSSSSSSSSSSSSSSSSSSSSSSSSSSSSSSSSSSSSSSSSSSSSSSSSSSSSSSSSSSSSSSSSSSSSSSSSSSSSSSSSSSSSSSSSSSSSSSSSSSSSSSSSSSSSSSSSSSSSSSSSSSSSSSSSSSSSSSSSSSSSSSSSSSSSSSSSSSSSSSSSSSSSSSSSSSSSSSSSSS\n",
      "TTTTTTTTTTTTTTTTTTTTTTTTTTTTTTTTTTTTTTTTTTTTTTTTTTTTTTTTTTTTTTTTTTTTTTTTTTTTTTTTTTTTTTTTTTTTTTTTTTTTTTTTTTTTTTTTTTTTTTTTTTTTTTTTTTTTTTTTTTTTTTTTTTTTTTTTTTTTTTTTTTTTTTTTTTTTTTTTTTTTTTTTTTTTTTTTTTTTTTTT\n",
      "Eval: Epoch: 3,domainTag=0, Loss: 1.1530, i_tgt_Acc: 0.3333 \n",
      "Eval: Epoch: 3,domainTag=5, Loss: 1.0060, i_tgt_Acc: 0.3590 \n",
      "--------------------------------------------------------------------------------------------------------------------------------------------------------------------------------------------------------\n",
      "Eval: Epoch: 3, after summing the logistic values from the domain [0, 5]，TGT_Acc: 0.2821\n",
      "TTTTTTTTTTTTTTTTTTTTTTTTTTTTTTTTTTTTTTTTTTTTTTTTTTTTTTTTTTTTTTTTTTTTTTTTTTTTTTTTTTTTTTTTTTTTTTTTTTTTTTTTTTTTTTTTTTTTTTTTTTTTTTTTTTTTTTTTTTTTTTTTTTTTTTTTTTTTTTTTTTTTTTTTTTTTTTTTTTTTTTTTTTTTTTTTTTTTTTTT\n",
      "SSSSSSSSSSSSSSSSSSSSSSSSSSSSSSSSSSSSSSSSSSSSSSSSSSSSSSSSSSSSSSSSSSSSSSSSSSSSSSSSSSSSSSSSSSSSSSSSSSSSSSSSSSSSSSSSSSSSSSSSSSSSSSSSSSSSSSSSSSSSSSSSSSSSSSSSSSSSSSSSSSSSSSSSSSSSSSSSSSSSSSSSSSSSSSSSSSSSSSSS\n",
      "domain number: 0, loss class: 0.10043859375374657, acc class: 0.9657738208770752, loss domain: 0.6872816795394534, \n"
     ]
    },
    {
     "name": "stderr",
     "output_type": "stream",
     "text": [
      "\n",
      " 17%|█▋        | 5/30 [00:04<00:21,  1.19it/s]\u001b[A"
     ]
    },
    {
     "name": "stdout",
     "output_type": "stream",
     "text": [
      "domain number: 5, loss class: 0.11866321184095882, acc class: 0.9598214626312256, loss domain: 0.6887087538128808, \n",
      "SSSSSSSSSSSSSSSSSSSSSSSSSSSSSSSSSSSSSSSSSSSSSSSSSSSSSSSSSSSSSSSSSSSSSSSSSSSSSSSSSSSSSSSSSSSSSSSSSSSSSSSSSSSSSSSSSSSSSSSSSSSSSSSSSSSSSSSSSSSSSSSSSSSSSSSSSSSSSSSSSSSSSSSSSSSSSSSSSSSSSSSSSSSSSSSSSSSSSSSS\n",
      "TTTTTTTTTTTTTTTTTTTTTTTTTTTTTTTTTTTTTTTTTTTTTTTTTTTTTTTTTTTTTTTTTTTTTTTTTTTTTTTTTTTTTTTTTTTTTTTTTTTTTTTTTTTTTTTTTTTTTTTTTTTTTTTTTTTTTTTTTTTTTTTTTTTTTTTTTTTTTTTTTTTTTTTTTTTTTTTTTTTTTTTTTTTTTTTTTTTTTTTT\n",
      "Eval: Epoch: 4,domainTag=0, Loss: 1.2311, i_tgt_Acc: 0.4359 \n",
      "Eval: Epoch: 4,domainTag=5, Loss: 1.1154, i_tgt_Acc: 0.4103 \n",
      "--------------------------------------------------------------------------------------------------------------------------------------------------------------------------------------------------------\n",
      "Eval: Epoch: 4, after summing the logistic values from the domain [0, 5]，TGT_Acc: 0.3846\n",
      "TTTTTTTTTTTTTTTTTTTTTTTTTTTTTTTTTTTTTTTTTTTTTTTTTTTTTTTTTTTTTTTTTTTTTTTTTTTTTTTTTTTTTTTTTTTTTTTTTTTTTTTTTTTTTTTTTTTTTTTTTTTTTTTTTTTTTTTTTTTTTTTTTTTTTTTTTTTTTTTTTTTTTTTTTTTTTTTTTTTTTTTTTTTTTTTTTTTTTTTT\n",
      "SSSSSSSSSSSSSSSSSSSSSSSSSSSSSSSSSSSSSSSSSSSSSSSSSSSSSSSSSSSSSSSSSSSSSSSSSSSSSSSSSSSSSSSSSSSSSSSSSSSSSSSSSSSSSSSSSSSSSSSSSSSSSSSSSSSSSSSSSSSSSSSSSSSSSSSSSSSSSSSSSSSSSSSSSSSSSSSSSSSSSSSSSSSSSSSSSSSSSSSS\n",
      "domain number: 0, loss class: 0.035310329958086924, acc class: 0.9955357313156128, loss domain: 0.6864420090402875, \n"
     ]
    },
    {
     "name": "stderr",
     "output_type": "stream",
     "text": [
      "\n",
      " 20%|██        | 6/30 [00:05<00:19,  1.22it/s]\u001b[A"
     ]
    },
    {
     "name": "stdout",
     "output_type": "stream",
     "text": [
      "domain number: 5, loss class: 0.04693130527933439, acc class: 0.9895833730697632, loss domain: 0.6875096814973014, \n",
      "SSSSSSSSSSSSSSSSSSSSSSSSSSSSSSSSSSSSSSSSSSSSSSSSSSSSSSSSSSSSSSSSSSSSSSSSSSSSSSSSSSSSSSSSSSSSSSSSSSSSSSSSSSSSSSSSSSSSSSSSSSSSSSSSSSSSSSSSSSSSSSSSSSSSSSSSSSSSSSSSSSSSSSSSSSSSSSSSSSSSSSSSSSSSSSSSSSSSSSSS\n",
      "TTTTTTTTTTTTTTTTTTTTTTTTTTTTTTTTTTTTTTTTTTTTTTTTTTTTTTTTTTTTTTTTTTTTTTTTTTTTTTTTTTTTTTTTTTTTTTTTTTTTTTTTTTTTTTTTTTTTTTTTTTTTTTTTTTTTTTTTTTTTTTTTTTTTTTTTTTTTTTTTTTTTTTTTTTTTTTTTTTTTTTTTTTTTTTTTTTTTTTTT\n",
      "Eval: Epoch: 5,domainTag=0, Loss: 2.5320, i_tgt_Acc: 0.1795 \n",
      "Eval: Epoch: 5,domainTag=5, Loss: 2.0423, i_tgt_Acc: 0.1026 \n",
      "--------------------------------------------------------------------------------------------------------------------------------------------------------------------------------------------------------\n",
      "Eval: Epoch: 5, after summing the logistic values from the domain [0, 5]，TGT_Acc: 0.0513\n",
      "TTTTTTTTTTTTTTTTTTTTTTTTTTTTTTTTTTTTTTTTTTTTTTTTTTTTTTTTTTTTTTTTTTTTTTTTTTTTTTTTTTTTTTTTTTTTTTTTTTTTTTTTTTTTTTTTTTTTTTTTTTTTTTTTTTTTTTTTTTTTTTTTTTTTTTTTTTTTTTTTTTTTTTTTTTTTTTTTTTTTTTTTTTTTTTTTTTTTTTTT\n",
      "SSSSSSSSSSSSSSSSSSSSSSSSSSSSSSSSSSSSSSSSSSSSSSSSSSSSSSSSSSSSSSSSSSSSSSSSSSSSSSSSSSSSSSSSSSSSSSSSSSSSSSSSSSSSSSSSSSSSSSSSSSSSSSSSSSSSSSSSSSSSSSSSSSSSSSSSSSSSSSSSSSSSSSSSSSSSSSSSSSSSSSSSSSSSSSSSSSSSSSSS\n",
      "domain number: 0, loss class: 0.014222358697138372, acc class: 1.0, loss domain: 0.684935484613691, \n"
     ]
    },
    {
     "name": "stderr",
     "output_type": "stream",
     "text": [
      "\n",
      " 23%|██▎       | 7/30 [00:05<00:18,  1.24it/s]\u001b[A"
     ]
    },
    {
     "name": "stdout",
     "output_type": "stream",
     "text": [
      "domain number: 5, loss class: 0.02260008549672507, acc class: 0.9970238208770752, loss domain: 0.6855226783525377, \n",
      "SSSSSSSSSSSSSSSSSSSSSSSSSSSSSSSSSSSSSSSSSSSSSSSSSSSSSSSSSSSSSSSSSSSSSSSSSSSSSSSSSSSSSSSSSSSSSSSSSSSSSSSSSSSSSSSSSSSSSSSSSSSSSSSSSSSSSSSSSSSSSSSSSSSSSSSSSSSSSSSSSSSSSSSSSSSSSSSSSSSSSSSSSSSSSSSSSSSSSSSS\n",
      "TTTTTTTTTTTTTTTTTTTTTTTTTTTTTTTTTTTTTTTTTTTTTTTTTTTTTTTTTTTTTTTTTTTTTTTTTTTTTTTTTTTTTTTTTTTTTTTTTTTTTTTTTTTTTTTTTTTTTTTTTTTTTTTTTTTTTTTTTTTTTTTTTTTTTTTTTTTTTTTTTTTTTTTTTTTTTTTTTTTTTTTTTTTTTTTTTTTTTTTT\n",
      "Eval: Epoch: 6,domainTag=0, Loss: 2.8384, i_tgt_Acc: 0.2308 \n",
      "Eval: Epoch: 6,domainTag=5, Loss: 1.7778, i_tgt_Acc: 0.2821 \n",
      "--------------------------------------------------------------------------------------------------------------------------------------------------------------------------------------------------------\n",
      "Eval: Epoch: 6, after summing the logistic values from the domain [0, 5]，TGT_Acc: 0.0513\n",
      "TTTTTTTTTTTTTTTTTTTTTTTTTTTTTTTTTTTTTTTTTTTTTTTTTTTTTTTTTTTTTTTTTTTTTTTTTTTTTTTTTTTTTTTTTTTTTTTTTTTTTTTTTTTTTTTTTTTTTTTTTTTTTTTTTTTTTTTTTTTTTTTTTTTTTTTTTTTTTTTTTTTTTTTTTTTTTTTTTTTTTTTTTTTTTTTTTTTTTTTT\n",
      "SSSSSSSSSSSSSSSSSSSSSSSSSSSSSSSSSSSSSSSSSSSSSSSSSSSSSSSSSSSSSSSSSSSSSSSSSSSSSSSSSSSSSSSSSSSSSSSSSSSSSSSSSSSSSSSSSSSSSSSSSSSSSSSSSSSSSSSSSSSSSSSSSSSSSSSSSSSSSSSSSSSSSSSSSSSSSSSSSSSSSSSSSSSSSSSSSSSSSSSS\n",
      "domain number: 0, loss class: 0.004198743113582688, acc class: 1.0, loss domain: 0.6823558211326599, \n"
     ]
    },
    {
     "name": "stderr",
     "output_type": "stream",
     "text": [
      "\n",
      " 27%|██▋       | 8/30 [00:06<00:17,  1.25it/s]\u001b[A"
     ]
    },
    {
     "name": "stdout",
     "output_type": "stream",
     "text": [
      "domain number: 5, loss class: 0.008477087310027508, acc class: 1.0, loss domain: 0.6829761862754822, \n",
      "SSSSSSSSSSSSSSSSSSSSSSSSSSSSSSSSSSSSSSSSSSSSSSSSSSSSSSSSSSSSSSSSSSSSSSSSSSSSSSSSSSSSSSSSSSSSSSSSSSSSSSSSSSSSSSSSSSSSSSSSSSSSSSSSSSSSSSSSSSSSSSSSSSSSSSSSSSSSSSSSSSSSSSSSSSSSSSSSSSSSSSSSSSSSSSSSSSSSSSSS\n",
      "TTTTTTTTTTTTTTTTTTTTTTTTTTTTTTTTTTTTTTTTTTTTTTTTTTTTTTTTTTTTTTTTTTTTTTTTTTTTTTTTTTTTTTTTTTTTTTTTTTTTTTTTTTTTTTTTTTTTTTTTTTTTTTTTTTTTTTTTTTTTTTTTTTTTTTTTTTTTTTTTTTTTTTTTTTTTTTTTTTTTTTTTTTTTTTTTTTTTTTTT\n",
      "Eval: Epoch: 7,domainTag=0, Loss: 2.4905, i_tgt_Acc: 0.2821 \n",
      "Eval: Epoch: 7,domainTag=5, Loss: 1.8934, i_tgt_Acc: 0.2821 \n",
      "--------------------------------------------------------------------------------------------------------------------------------------------------------------------------------------------------------\n",
      "Eval: Epoch: 7, after summing the logistic values from the domain [0, 5]，TGT_Acc: 0.1795\n",
      "TTTTTTTTTTTTTTTTTTTTTTTTTTTTTTTTTTTTTTTTTTTTTTTTTTTTTTTTTTTTTTTTTTTTTTTTTTTTTTTTTTTTTTTTTTTTTTTTTTTTTTTTTTTTTTTTTTTTTTTTTTTTTTTTTTTTTTTTTTTTTTTTTTTTTTTTTTTTTTTTTTTTTTTTTTTTTTTTTTTTTTTTTTTTTTTTTTTTTTTT\n",
      "SSSSSSSSSSSSSSSSSSSSSSSSSSSSSSSSSSSSSSSSSSSSSSSSSSSSSSSSSSSSSSSSSSSSSSSSSSSSSSSSSSSSSSSSSSSSSSSSSSSSSSSSSSSSSSSSSSSSSSSSSSSSSSSSSSSSSSSSSSSSSSSSSSSSSSSSSSSSSSSSSSSSSSSSSSSSSSSSSSSSSSSSSSSSSSSSSSSSSSSS\n",
      "domain number: 0, loss class: 0.001962724105743248, acc class: 1.0, loss domain: 0.6805564647629148, \n"
     ]
    },
    {
     "name": "stderr",
     "output_type": "stream",
     "text": [
      "\n",
      " 30%|███       | 9/30 [00:07<00:16,  1.27it/s]\u001b[A"
     ]
    },
    {
     "name": "stdout",
     "output_type": "stream",
     "text": [
      "domain number: 5, loss class: 0.0034101242116386338, acc class: 1.0, loss domain: 0.6815778414408366, \n",
      "SSSSSSSSSSSSSSSSSSSSSSSSSSSSSSSSSSSSSSSSSSSSSSSSSSSSSSSSSSSSSSSSSSSSSSSSSSSSSSSSSSSSSSSSSSSSSSSSSSSSSSSSSSSSSSSSSSSSSSSSSSSSSSSSSSSSSSSSSSSSSSSSSSSSSSSSSSSSSSSSSSSSSSSSSSSSSSSSSSSSSSSSSSSSSSSSSSSSSSSS\n",
      "TTTTTTTTTTTTTTTTTTTTTTTTTTTTTTTTTTTTTTTTTTTTTTTTTTTTTTTTTTTTTTTTTTTTTTTTTTTTTTTTTTTTTTTTTTTTTTTTTTTTTTTTTTTTTTTTTTTTTTTTTTTTTTTTTTTTTTTTTTTTTTTTTTTTTTTTTTTTTTTTTTTTTTTTTTTTTTTTTTTTTTTTTTTTTTTTTTTTTTTT\n",
      "Eval: Epoch: 8,domainTag=0, Loss: 2.8977, i_tgt_Acc: 0.2821 \n",
      "Eval: Epoch: 8,domainTag=5, Loss: 3.1619, i_tgt_Acc: 0.1282 \n",
      "--------------------------------------------------------------------------------------------------------------------------------------------------------------------------------------------------------\n",
      "Eval: Epoch: 8, after summing the logistic values from the domain [0, 5]，TGT_Acc: 0.0769\n",
      "TTTTTTTTTTTTTTTTTTTTTTTTTTTTTTTTTTTTTTTTTTTTTTTTTTTTTTTTTTTTTTTTTTTTTTTTTTTTTTTTTTTTTTTTTTTTTTTTTTTTTTTTTTTTTTTTTTTTTTTTTTTTTTTTTTTTTTTTTTTTTTTTTTTTTTTTTTTTTTTTTTTTTTTTTTTTTTTTTTTTTTTTTTTTTTTTTTTTTTTT\n",
      "SSSSSSSSSSSSSSSSSSSSSSSSSSSSSSSSSSSSSSSSSSSSSSSSSSSSSSSSSSSSSSSSSSSSSSSSSSSSSSSSSSSSSSSSSSSSSSSSSSSSSSSSSSSSSSSSSSSSSSSSSSSSSSSSSSSSSSSSSSSSSSSSSSSSSSSSSSSSSSSSSSSSSSSSSSSSSSSSSSSSSSSSSSSSSSSSSSSSSSSS\n",
      "domain number: 0, loss class: 0.0014235719572752714, acc class: 1.0, loss domain: 0.6786889433860779, \n"
     ]
    },
    {
     "name": "stderr",
     "output_type": "stream",
     "text": [
      "\n",
      " 33%|███▎      | 10/30 [00:08<00:15,  1.28it/s]\u001b[A"
     ]
    },
    {
     "name": "stdout",
     "output_type": "stream",
     "text": [
      "domain number: 5, loss class: 0.001976992412459194, acc class: 1.0, loss domain: 0.6798752915291559, \n",
      "SSSSSSSSSSSSSSSSSSSSSSSSSSSSSSSSSSSSSSSSSSSSSSSSSSSSSSSSSSSSSSSSSSSSSSSSSSSSSSSSSSSSSSSSSSSSSSSSSSSSSSSSSSSSSSSSSSSSSSSSSSSSSSSSSSSSSSSSSSSSSSSSSSSSSSSSSSSSSSSSSSSSSSSSSSSSSSSSSSSSSSSSSSSSSSSSSSSSSSSS\n",
      "TTTTTTTTTTTTTTTTTTTTTTTTTTTTTTTTTTTTTTTTTTTTTTTTTTTTTTTTTTTTTTTTTTTTTTTTTTTTTTTTTTTTTTTTTTTTTTTTTTTTTTTTTTTTTTTTTTTTTTTTTTTTTTTTTTTTTTTTTTTTTTTTTTTTTTTTTTTTTTTTTTTTTTTTTTTTTTTTTTTTTTTTTTTTTTTTTTTTTTTT\n",
      "Eval: Epoch: 9,domainTag=0, Loss: 3.5117, i_tgt_Acc: 0.2564 \n",
      "Eval: Epoch: 9,domainTag=5, Loss: 2.5473, i_tgt_Acc: 0.2051 \n",
      "--------------------------------------------------------------------------------------------------------------------------------------------------------------------------------------------------------\n",
      "Eval: Epoch: 9, after summing the logistic values from the domain [0, 5]，TGT_Acc: 0.0769\n",
      "TTTTTTTTTTTTTTTTTTTTTTTTTTTTTTTTTTTTTTTTTTTTTTTTTTTTTTTTTTTTTTTTTTTTTTTTTTTTTTTTTTTTTTTTTTTTTTTTTTTTTTTTTTTTTTTTTTTTTTTTTTTTTTTTTTTTTTTTTTTTTTTTTTTTTTTTTTTTTTTTTTTTTTTTTTTTTTTTTTTTTTTTTTTTTTTTTTTTTTTT\n",
      "SSSSSSSSSSSSSSSSSSSSSSSSSSSSSSSSSSSSSSSSSSSSSSSSSSSSSSSSSSSSSSSSSSSSSSSSSSSSSSSSSSSSSSSSSSSSSSSSSSSSSSSSSSSSSSSSSSSSSSSSSSSSSSSSSSSSSSSSSSSSSSSSSSSSSSSSSSSSSSSSSSSSSSSSSSSSSSSSSSSSSSSSSSSSSSSSSSSSSSSS\n",
      "domain number: 0, loss class: 0.0009126906807068735, acc class: 1.0, loss domain: 0.6779871611368089, \n"
     ]
    },
    {
     "name": "stderr",
     "output_type": "stream",
     "text": [
      "\n",
      " 37%|███▋      | 11/30 [00:09<00:14,  1.28it/s]\u001b[A"
     ]
    },
    {
     "name": "stdout",
     "output_type": "stream",
     "text": [
      "domain number: 5, loss class: 0.0011100786352818389, acc class: 1.0, loss domain: 0.6789615296182179, \n",
      "SSSSSSSSSSSSSSSSSSSSSSSSSSSSSSSSSSSSSSSSSSSSSSSSSSSSSSSSSSSSSSSSSSSSSSSSSSSSSSSSSSSSSSSSSSSSSSSSSSSSSSSSSSSSSSSSSSSSSSSSSSSSSSSSSSSSSSSSSSSSSSSSSSSSSSSSSSSSSSSSSSSSSSSSSSSSSSSSSSSSSSSSSSSSSSSSSSSSSSSS\n",
      "TTTTTTTTTTTTTTTTTTTTTTTTTTTTTTTTTTTTTTTTTTTTTTTTTTTTTTTTTTTTTTTTTTTTTTTTTTTTTTTTTTTTTTTTTTTTTTTTTTTTTTTTTTTTTTTTTTTTTTTTTTTTTTTTTTTTTTTTTTTTTTTTTTTTTTTTTTTTTTTTTTTTTTTTTTTTTTTTTTTTTTTTTTTTTTTTTTTTTTTT\n",
      "Eval: Epoch: 10,domainTag=0, Loss: 3.3041, i_tgt_Acc: 0.2821 \n",
      "Eval: Epoch: 10,domainTag=5, Loss: 3.1285, i_tgt_Acc: 0.1282 \n",
      "--------------------------------------------------------------------------------------------------------------------------------------------------------------------------------------------------------\n",
      "Eval: Epoch: 10, after summing the logistic values from the domain [0, 5]，TGT_Acc: 0.1282\n",
      "TTTTTTTTTTTTTTTTTTTTTTTTTTTTTTTTTTTTTTTTTTTTTTTTTTTTTTTTTTTTTTTTTTTTTTTTTTTTTTTTTTTTTTTTTTTTTTTTTTTTTTTTTTTTTTTTTTTTTTTTTTTTTTTTTTTTTTTTTTTTTTTTTTTTTTTTTTTTTTTTTTTTTTTTTTTTTTTTTTTTTTTTTTTTTTTTTTTTTTTT\n",
      "SSSSSSSSSSSSSSSSSSSSSSSSSSSSSSSSSSSSSSSSSSSSSSSSSSSSSSSSSSSSSSSSSSSSSSSSSSSSSSSSSSSSSSSSSSSSSSSSSSSSSSSSSSSSSSSSSSSSSSSSSSSSSSSSSSSSSSSSSSSSSSSSSSSSSSSSSSSSSSSSSSSSSSSSSSSSSSSSSSSSSSSSSSSSSSSSSSSSSSSS\n",
      "domain number: 0, loss class: 0.0008098846689487497, acc class: 1.0, loss domain: 0.6772902097020831, \n"
     ]
    },
    {
     "name": "stderr",
     "output_type": "stream",
     "text": [
      "\n",
      " 40%|████      | 12/30 [00:09<00:13,  1.30it/s]\u001b[A"
     ]
    },
    {
     "name": "stdout",
     "output_type": "stream",
     "text": [
      "domain number: 5, loss class: 0.0010899056602890294, acc class: 1.0, loss domain: 0.6761679450670878, \n",
      "SSSSSSSSSSSSSSSSSSSSSSSSSSSSSSSSSSSSSSSSSSSSSSSSSSSSSSSSSSSSSSSSSSSSSSSSSSSSSSSSSSSSSSSSSSSSSSSSSSSSSSSSSSSSSSSSSSSSSSSSSSSSSSSSSSSSSSSSSSSSSSSSSSSSSSSSSSSSSSSSSSSSSSSSSSSSSSSSSSSSSSSSSSSSSSSSSSSSSSSS\n",
      "TTTTTTTTTTTTTTTTTTTTTTTTTTTTTTTTTTTTTTTTTTTTTTTTTTTTTTTTTTTTTTTTTTTTTTTTTTTTTTTTTTTTTTTTTTTTTTTTTTTTTTTTTTTTTTTTTTTTTTTTTTTTTTTTTTTTTTTTTTTTTTTTTTTTTTTTTTTTTTTTTTTTTTTTTTTTTTTTTTTTTTTTTTTTTTTTTTTTTTTT\n",
      "Eval: Epoch: 11,domainTag=0, Loss: 3.5043, i_tgt_Acc: 0.2821 \n",
      "Eval: Epoch: 11,domainTag=5, Loss: 2.7377, i_tgt_Acc: 0.2051 \n",
      "--------------------------------------------------------------------------------------------------------------------------------------------------------------------------------------------------------\n",
      "Eval: Epoch: 11, after summing the logistic values from the domain [0, 5]，TGT_Acc: 0.1026\n",
      "TTTTTTTTTTTTTTTTTTTTTTTTTTTTTTTTTTTTTTTTTTTTTTTTTTTTTTTTTTTTTTTTTTTTTTTTTTTTTTTTTTTTTTTTTTTTTTTTTTTTTTTTTTTTTTTTTTTTTTTTTTTTTTTTTTTTTTTTTTTTTTTTTTTTTTTTTTTTTTTTTTTTTTTTTTTTTTTTTTTTTTTTTTTTTTTTTTTTTTTT\n",
      "SSSSSSSSSSSSSSSSSSSSSSSSSSSSSSSSSSSSSSSSSSSSSSSSSSSSSSSSSSSSSSSSSSSSSSSSSSSSSSSSSSSSSSSSSSSSSSSSSSSSSSSSSSSSSSSSSSSSSSSSSSSSSSSSSSSSSSSSSSSSSSSSSSSSSSSSSSSSSSSSSSSSSSSSSSSSSSSSSSSSSSSSSSSSSSSSSSSSSSSS\n",
      "domain number: 0, loss class: 0.0012062486237569136, acc class: 1.0, loss domain: 0.6763879372960045, \n"
     ]
    },
    {
     "name": "stderr",
     "output_type": "stream",
     "text": [
      "\n",
      " 43%|████▎     | 13/30 [00:10<00:12,  1.31it/s]\u001b[A"
     ]
    },
    {
     "name": "stdout",
     "output_type": "stream",
     "text": [
      "domain number: 5, loss class: 0.0008693446559066485, acc class: 1.0, loss domain: 0.6764533519744873, \n",
      "SSSSSSSSSSSSSSSSSSSSSSSSSSSSSSSSSSSSSSSSSSSSSSSSSSSSSSSSSSSSSSSSSSSSSSSSSSSSSSSSSSSSSSSSSSSSSSSSSSSSSSSSSSSSSSSSSSSSSSSSSSSSSSSSSSSSSSSSSSSSSSSSSSSSSSSSSSSSSSSSSSSSSSSSSSSSSSSSSSSSSSSSSSSSSSSSSSSSSSSS\n",
      "TTTTTTTTTTTTTTTTTTTTTTTTTTTTTTTTTTTTTTTTTTTTTTTTTTTTTTTTTTTTTTTTTTTTTTTTTTTTTTTTTTTTTTTTTTTTTTTTTTTTTTTTTTTTTTTTTTTTTTTTTTTTTTTTTTTTTTTTTTTTTTTTTTTTTTTTTTTTTTTTTTTTTTTTTTTTTTTTTTTTTTTTTTTTTTTTTTTTTTTT\n",
      "Eval: Epoch: 12,domainTag=0, Loss: 3.2318, i_tgt_Acc: 0.3077 \n",
      "Eval: Epoch: 12,domainTag=5, Loss: 3.1810, i_tgt_Acc: 0.1538 \n",
      "--------------------------------------------------------------------------------------------------------------------------------------------------------------------------------------------------------\n",
      "Eval: Epoch: 12, after summing the logistic values from the domain [0, 5]，TGT_Acc: 0.1282\n",
      "TTTTTTTTTTTTTTTTTTTTTTTTTTTTTTTTTTTTTTTTTTTTTTTTTTTTTTTTTTTTTTTTTTTTTTTTTTTTTTTTTTTTTTTTTTTTTTTTTTTTTTTTTTTTTTTTTTTTTTTTTTTTTTTTTTTTTTTTTTTTTTTTTTTTTTTTTTTTTTTTTTTTTTTTTTTTTTTTTTTTTTTTTTTTTTTTTTTTTTTT\n",
      "SSSSSSSSSSSSSSSSSSSSSSSSSSSSSSSSSSSSSSSSSSSSSSSSSSSSSSSSSSSSSSSSSSSSSSSSSSSSSSSSSSSSSSSSSSSSSSSSSSSSSSSSSSSSSSSSSSSSSSSSSSSSSSSSSSSSSSSSSSSSSSSSSSSSSSSSSSSSSSSSSSSSSSSSSSSSSSSSSSSSSSSSSSSSSSSSSSSSSSSS\n",
      "domain number: 0, loss class: 0.0005370249924626911, acc class: 1.0, loss domain: 0.6756889678183056, \n"
     ]
    },
    {
     "name": "stderr",
     "output_type": "stream",
     "text": [
      "\n",
      " 47%|████▋     | 14/30 [00:11<00:12,  1.32it/s]\u001b[A"
     ]
    },
    {
     "name": "stdout",
     "output_type": "stream",
     "text": [
      "domain number: 5, loss class: 0.0005800925587425896, acc class: 1.0, loss domain: 0.6749975794837588, \n",
      "SSSSSSSSSSSSSSSSSSSSSSSSSSSSSSSSSSSSSSSSSSSSSSSSSSSSSSSSSSSSSSSSSSSSSSSSSSSSSSSSSSSSSSSSSSSSSSSSSSSSSSSSSSSSSSSSSSSSSSSSSSSSSSSSSSSSSSSSSSSSSSSSSSSSSSSSSSSSSSSSSSSSSSSSSSSSSSSSSSSSSSSSSSSSSSSSSSSSSSSS\n",
      "TTTTTTTTTTTTTTTTTTTTTTTTTTTTTTTTTTTTTTTTTTTTTTTTTTTTTTTTTTTTTTTTTTTTTTTTTTTTTTTTTTTTTTTTTTTTTTTTTTTTTTTTTTTTTTTTTTTTTTTTTTTTTTTTTTTTTTTTTTTTTTTTTTTTTTTTTTTTTTTTTTTTTTTTTTTTTTTTTTTTTTTTTTTTTTTTTTTTTTTT\n",
      "Eval: Epoch: 13,domainTag=0, Loss: 3.6902, i_tgt_Acc: 0.2821 \n",
      "Eval: Epoch: 13,domainTag=5, Loss: 2.6915, i_tgt_Acc: 0.2308 \n",
      "--------------------------------------------------------------------------------------------------------------------------------------------------------------------------------------------------------\n",
      "Eval: Epoch: 13, after summing the logistic values from the domain [0, 5]，TGT_Acc: 0.1795\n",
      "TTTTTTTTTTTTTTTTTTTTTTTTTTTTTTTTTTTTTTTTTTTTTTTTTTTTTTTTTTTTTTTTTTTTTTTTTTTTTTTTTTTTTTTTTTTTTTTTTTTTTTTTTTTTTTTTTTTTTTTTTTTTTTTTTTTTTTTTTTTTTTTTTTTTTTTTTTTTTTTTTTTTTTTTTTTTTTTTTTTTTTTTTTTTTTTTTTTTTTTT\n",
      "SSSSSSSSSSSSSSSSSSSSSSSSSSSSSSSSSSSSSSSSSSSSSSSSSSSSSSSSSSSSSSSSSSSSSSSSSSSSSSSSSSSSSSSSSSSSSSSSSSSSSSSSSSSSSSSSSSSSSSSSSSSSSSSSSSSSSSSSSSSSSSSSSSSSSSSSSSSSSSSSSSSSSSSSSSSSSSSSSSSSSSSSSSSSSSSSSSSSSSSS\n",
      "domain number: 0, loss class: 0.000556581201852255, acc class: 1.0, loss domain: 0.6739243723097301, \n"
     ]
    },
    {
     "name": "stderr",
     "output_type": "stream",
     "text": [
      "\n",
      " 50%|█████     | 15/30 [00:12<00:11,  1.32it/s]\u001b[A"
     ]
    },
    {
     "name": "stdout",
     "output_type": "stream",
     "text": [
      "domain number: 5, loss class: 0.0005925295187071676, acc class: 1.0, loss domain: 0.6748615247862679, \n",
      "SSSSSSSSSSSSSSSSSSSSSSSSSSSSSSSSSSSSSSSSSSSSSSSSSSSSSSSSSSSSSSSSSSSSSSSSSSSSSSSSSSSSSSSSSSSSSSSSSSSSSSSSSSSSSSSSSSSSSSSSSSSSSSSSSSSSSSSSSSSSSSSSSSSSSSSSSSSSSSSSSSSSSSSSSSSSSSSSSSSSSSSSSSSSSSSSSSSSSSSS\n",
      "TTTTTTTTTTTTTTTTTTTTTTTTTTTTTTTTTTTTTTTTTTTTTTTTTTTTTTTTTTTTTTTTTTTTTTTTTTTTTTTTTTTTTTTTTTTTTTTTTTTTTTTTTTTTTTTTTTTTTTTTTTTTTTTTTTTTTTTTTTTTTTTTTTTTTTTTTTTTTTTTTTTTTTTTTTTTTTTTTTTTTTTTTTTTTTTTTTTTTTTT\n",
      "Eval: Epoch: 14,domainTag=0, Loss: 4.0148, i_tgt_Acc: 0.2564 \n",
      "Eval: Epoch: 14,domainTag=5, Loss: 3.0456, i_tgt_Acc: 0.2051 \n",
      "--------------------------------------------------------------------------------------------------------------------------------------------------------------------------------------------------------\n",
      "Eval: Epoch: 14, after summing the logistic values from the domain [0, 5]，TGT_Acc: 0.1282\n",
      "TTTTTTTTTTTTTTTTTTTTTTTTTTTTTTTTTTTTTTTTTTTTTTTTTTTTTTTTTTTTTTTTTTTTTTTTTTTTTTTTTTTTTTTTTTTTTTTTTTTTTTTTTTTTTTTTTTTTTTTTTTTTTTTTTTTTTTTTTTTTTTTTTTTTTTTTTTTTTTTTTTTTTTTTTTTTTTTTTTTTTTTTTTTTTTTTTTTTTTTT\n",
      "SSSSSSSSSSSSSSSSSSSSSSSSSSSSSSSSSSSSSSSSSSSSSSSSSSSSSSSSSSSSSSSSSSSSSSSSSSSSSSSSSSSSSSSSSSSSSSSSSSSSSSSSSSSSSSSSSSSSSSSSSSSSSSSSSSSSSSSSSSSSSSSSSSSSSSSSSSSSSSSSSSSSSSSSSSSSSSSSSSSSSSSSSSSSSSSSSSSSSSSS\n",
      "domain number: 0, loss class: 0.0003354294454939442, acc class: 1.0, loss domain: 0.6737640443302336, \n"
     ]
    },
    {
     "name": "stderr",
     "output_type": "stream",
     "text": [
      "\n",
      " 53%|█████▎    | 16/30 [00:12<00:10,  1.32it/s]\u001b[A"
     ]
    },
    {
     "name": "stdout",
     "output_type": "stream",
     "text": [
      "domain number: 5, loss class: 0.0004179042734904215, acc class: 1.0, loss domain: 0.6746498459861392, \n",
      "SSSSSSSSSSSSSSSSSSSSSSSSSSSSSSSSSSSSSSSSSSSSSSSSSSSSSSSSSSSSSSSSSSSSSSSSSSSSSSSSSSSSSSSSSSSSSSSSSSSSSSSSSSSSSSSSSSSSSSSSSSSSSSSSSSSSSSSSSSSSSSSSSSSSSSSSSSSSSSSSSSSSSSSSSSSSSSSSSSSSSSSSSSSSSSSSSSSSSSSS\n",
      "TTTTTTTTTTTTTTTTTTTTTTTTTTTTTTTTTTTTTTTTTTTTTTTTTTTTTTTTTTTTTTTTTTTTTTTTTTTTTTTTTTTTTTTTTTTTTTTTTTTTTTTTTTTTTTTTTTTTTTTTTTTTTTTTTTTTTTTTTTTTTTTTTTTTTTTTTTTTTTTTTTTTTTTTTTTTTTTTTTTTTTTTTTTTTTTTTTTTTTTT\n",
      "Eval: Epoch: 15,domainTag=0, Loss: 4.2959, i_tgt_Acc: 0.2564 \n",
      "Eval: Epoch: 15,domainTag=5, Loss: 2.8311, i_tgt_Acc: 0.2051 \n",
      "--------------------------------------------------------------------------------------------------------------------------------------------------------------------------------------------------------\n",
      "Eval: Epoch: 15, after summing the logistic values from the domain [0, 5]，TGT_Acc: 0.1282\n",
      "TTTTTTTTTTTTTTTTTTTTTTTTTTTTTTTTTTTTTTTTTTTTTTTTTTTTTTTTTTTTTTTTTTTTTTTTTTTTTTTTTTTTTTTTTTTTTTTTTTTTTTTTTTTTTTTTTTTTTTTTTTTTTTTTTTTTTTTTTTTTTTTTTTTTTTTTTTTTTTTTTTTTTTTTTTTTTTTTTTTTTTTTTTTTTTTTTTTTTTTT\n",
      "SSSSSSSSSSSSSSSSSSSSSSSSSSSSSSSSSSSSSSSSSSSSSSSSSSSSSSSSSSSSSSSSSSSSSSSSSSSSSSSSSSSSSSSSSSSSSSSSSSSSSSSSSSSSSSSSSSSSSSSSSSSSSSSSSSSSSSSSSSSSSSSSSSSSSSSSSSSSSSSSSSSSSSSSSSSSSSSSSSSSSSSSSSSSSSSSSSSSSSSS\n",
      "domain number: 0, loss class: 0.0003185330777861444, acc class: 1.0, loss domain: 0.6731521316937038, \n"
     ]
    },
    {
     "name": "stderr",
     "output_type": "stream",
     "text": [
      "\n",
      " 57%|█████▋    | 17/30 [00:13<00:09,  1.33it/s]\u001b[A"
     ]
    },
    {
     "name": "stdout",
     "output_type": "stream",
     "text": [
      "domain number: 5, loss class: 0.00032451543943136043, acc class: 1.0, loss domain: 0.6762309670448303, \n",
      "SSSSSSSSSSSSSSSSSSSSSSSSSSSSSSSSSSSSSSSSSSSSSSSSSSSSSSSSSSSSSSSSSSSSSSSSSSSSSSSSSSSSSSSSSSSSSSSSSSSSSSSSSSSSSSSSSSSSSSSSSSSSSSSSSSSSSSSSSSSSSSSSSSSSSSSSSSSSSSSSSSSSSSSSSSSSSSSSSSSSSSSSSSSSSSSSSSSSSSSS\n",
      "TTTTTTTTTTTTTTTTTTTTTTTTTTTTTTTTTTTTTTTTTTTTTTTTTTTTTTTTTTTTTTTTTTTTTTTTTTTTTTTTTTTTTTTTTTTTTTTTTTTTTTTTTTTTTTTTTTTTTTTTTTTTTTTTTTTTTTTTTTTTTTTTTTTTTTTTTTTTTTTTTTTTTTTTTTTTTTTTTTTTTTTTTTTTTTTTTTTTTTTT\n",
      "Eval: Epoch: 16,domainTag=0, Loss: 4.2890, i_tgt_Acc: 0.2821 \n",
      "Eval: Epoch: 16,domainTag=5, Loss: 2.7094, i_tgt_Acc: 0.2051 \n",
      "--------------------------------------------------------------------------------------------------------------------------------------------------------------------------------------------------------\n",
      "Eval: Epoch: 16, after summing the logistic values from the domain [0, 5]，TGT_Acc: 0.2308\n",
      "TTTTTTTTTTTTTTTTTTTTTTTTTTTTTTTTTTTTTTTTTTTTTTTTTTTTTTTTTTTTTTTTTTTTTTTTTTTTTTTTTTTTTTTTTTTTTTTTTTTTTTTTTTTTTTTTTTTTTTTTTTTTTTTTTTTTTTTTTTTTTTTTTTTTTTTTTTTTTTTTTTTTTTTTTTTTTTTTTTTTTTTTTTTTTTTTTTTTTTTT\n",
      "SSSSSSSSSSSSSSSSSSSSSSSSSSSSSSSSSSSSSSSSSSSSSSSSSSSSSSSSSSSSSSSSSSSSSSSSSSSSSSSSSSSSSSSSSSSSSSSSSSSSSSSSSSSSSSSSSSSSSSSSSSSSSSSSSSSSSSSSSSSSSSSSSSSSSSSSSSSSSSSSSSSSSSSSSSSSSSSSSSSSSSSSSSSSSSSSSSSSSSSS\n",
      "domain number: 0, loss class: 0.00044020772717582685, acc class: 1.0, loss domain: 0.6740663335436866, \n"
     ]
    },
    {
     "name": "stderr",
     "output_type": "stream",
     "text": [
      "\n",
      " 60%|██████    | 18/30 [00:14<00:09,  1.33it/s]\u001b[A"
     ]
    },
    {
     "name": "stdout",
     "output_type": "stream",
     "text": [
      "domain number: 5, loss class: 0.00023316903527648676, acc class: 1.0, loss domain: 0.6758155397006443, \n",
      "SSSSSSSSSSSSSSSSSSSSSSSSSSSSSSSSSSSSSSSSSSSSSSSSSSSSSSSSSSSSSSSSSSSSSSSSSSSSSSSSSSSSSSSSSSSSSSSSSSSSSSSSSSSSSSSSSSSSSSSSSSSSSSSSSSSSSSSSSSSSSSSSSSSSSSSSSSSSSSSSSSSSSSSSSSSSSSSSSSSSSSSSSSSSSSSSSSSSSSSS\n",
      "TTTTTTTTTTTTTTTTTTTTTTTTTTTTTTTTTTTTTTTTTTTTTTTTTTTTTTTTTTTTTTTTTTTTTTTTTTTTTTTTTTTTTTTTTTTTTTTTTTTTTTTTTTTTTTTTTTTTTTTTTTTTTTTTTTTTTTTTTTTTTTTTTTTTTTTTTTTTTTTTTTTTTTTTTTTTTTTTTTTTTTTTTTTTTTTTTTTTTTTT\n",
      "Eval: Epoch: 17,domainTag=0, Loss: 4.3761, i_tgt_Acc: 0.2821 \n",
      "Eval: Epoch: 17,domainTag=5, Loss: 2.6664, i_tgt_Acc: 0.2051 \n",
      "--------------------------------------------------------------------------------------------------------------------------------------------------------------------------------------------------------\n",
      "Eval: Epoch: 17, after summing the logistic values from the domain [0, 5]，TGT_Acc: 0.1282\n",
      "TTTTTTTTTTTTTTTTTTTTTTTTTTTTTTTTTTTTTTTTTTTTTTTTTTTTTTTTTTTTTTTTTTTTTTTTTTTTTTTTTTTTTTTTTTTTTTTTTTTTTTTTTTTTTTTTTTTTTTTTTTTTTTTTTTTTTTTTTTTTTTTTTTTTTTTTTTTTTTTTTTTTTTTTTTTTTTTTTTTTTTTTTTTTTTTTTTTTTTTT\n",
      "SSSSSSSSSSSSSSSSSSSSSSSSSSSSSSSSSSSSSSSSSSSSSSSSSSSSSSSSSSSSSSSSSSSSSSSSSSSSSSSSSSSSSSSSSSSSSSSSSSSSSSSSSSSSSSSSSSSSSSSSSSSSSSSSSSSSSSSSSSSSSSSSSSSSSSSSSSSSSSSSSSSSSSSSSSSSSSSSSSSSSSSSSSSSSSSSSSSSSSSS\n",
      "domain number: 0, loss class: 0.000283187960684743, acc class: 1.0, loss domain: 0.674469686689831, \n"
     ]
    },
    {
     "name": "stderr",
     "output_type": "stream",
     "text": [
      "\n",
      " 63%|██████▎   | 19/30 [00:15<00:08,  1.33it/s]\u001b[A"
     ]
    },
    {
     "name": "stdout",
     "output_type": "stream",
     "text": [
      "domain number: 5, loss class: 0.00029222523638357717, acc class: 1.0, loss domain: 0.6767384324754987, \n",
      "SSSSSSSSSSSSSSSSSSSSSSSSSSSSSSSSSSSSSSSSSSSSSSSSSSSSSSSSSSSSSSSSSSSSSSSSSSSSSSSSSSSSSSSSSSSSSSSSSSSSSSSSSSSSSSSSSSSSSSSSSSSSSSSSSSSSSSSSSSSSSSSSSSSSSSSSSSSSSSSSSSSSSSSSSSSSSSSSSSSSSSSSSSSSSSSSSSSSSSSS\n",
      "TTTTTTTTTTTTTTTTTTTTTTTTTTTTTTTTTTTTTTTTTTTTTTTTTTTTTTTTTTTTTTTTTTTTTTTTTTTTTTTTTTTTTTTTTTTTTTTTTTTTTTTTTTTTTTTTTTTTTTTTTTTTTTTTTTTTTTTTTTTTTTTTTTTTTTTTTTTTTTTTTTTTTTTTTTTTTTTTTTTTTTTTTTTTTTTTTTTTTTTT\n",
      "Eval: Epoch: 18,domainTag=0, Loss: 4.3374, i_tgt_Acc: 0.2821 \n",
      "Eval: Epoch: 18,domainTag=5, Loss: 2.3779, i_tgt_Acc: 0.3077 \n",
      "--------------------------------------------------------------------------------------------------------------------------------------------------------------------------------------------------------\n",
      "Eval: Epoch: 18, after summing the logistic values from the domain [0, 5]，TGT_Acc: 0.2051\n",
      "TTTTTTTTTTTTTTTTTTTTTTTTTTTTTTTTTTTTTTTTTTTTTTTTTTTTTTTTTTTTTTTTTTTTTTTTTTTTTTTTTTTTTTTTTTTTTTTTTTTTTTTTTTTTTTTTTTTTTTTTTTTTTTTTTTTTTTTTTTTTTTTTTTTTTTTTTTTTTTTTTTTTTTTTTTTTTTTTTTTTTTTTTTTTTTTTTTTTTTTT\n",
      "SSSSSSSSSSSSSSSSSSSSSSSSSSSSSSSSSSSSSSSSSSSSSSSSSSSSSSSSSSSSSSSSSSSSSSSSSSSSSSSSSSSSSSSSSSSSSSSSSSSSSSSSSSSSSSSSSSSSSSSSSSSSSSSSSSSSSSSSSSSSSSSSSSSSSSSSSSSSSSSSSSSSSSSSSSSSSSSSSSSSSSSSSSSSSSSSSSSSSSSS\n",
      "domain number: 0, loss class: 0.0003617452620390049, acc class: 1.0, loss domain: 0.6755568186442057, \n"
     ]
    },
    {
     "name": "stderr",
     "output_type": "stream",
     "text": [
      "\n",
      " 67%|██████▋   | 20/30 [00:15<00:07,  1.31it/s]\u001b[A"
     ]
    },
    {
     "name": "stdout",
     "output_type": "stream",
     "text": [
      "domain number: 5, loss class: 0.0002495060921535783, acc class: 1.0, loss domain: 0.6784386521294004, \n",
      "SSSSSSSSSSSSSSSSSSSSSSSSSSSSSSSSSSSSSSSSSSSSSSSSSSSSSSSSSSSSSSSSSSSSSSSSSSSSSSSSSSSSSSSSSSSSSSSSSSSSSSSSSSSSSSSSSSSSSSSSSSSSSSSSSSSSSSSSSSSSSSSSSSSSSSSSSSSSSSSSSSSSSSSSSSSSSSSSSSSSSSSSSSSSSSSSSSSSSSSS\n",
      "TTTTTTTTTTTTTTTTTTTTTTTTTTTTTTTTTTTTTTTTTTTTTTTTTTTTTTTTTTTTTTTTTTTTTTTTTTTTTTTTTTTTTTTTTTTTTTTTTTTTTTTTTTTTTTTTTTTTTTTTTTTTTTTTTTTTTTTTTTTTTTTTTTTTTTTTTTTTTTTTTTTTTTTTTTTTTTTTTTTTTTTTTTTTTTTTTTTTTTTT\n",
      "Eval: Epoch: 19,domainTag=0, Loss: 4.3727, i_tgt_Acc: 0.2821 \n",
      "Eval: Epoch: 19,domainTag=5, Loss: 2.4254, i_tgt_Acc: 0.2821 \n",
      "--------------------------------------------------------------------------------------------------------------------------------------------------------------------------------------------------------\n",
      "Eval: Epoch: 19, after summing the logistic values from the domain [0, 5]，TGT_Acc: 0.2308\n",
      "TTTTTTTTTTTTTTTTTTTTTTTTTTTTTTTTTTTTTTTTTTTTTTTTTTTTTTTTTTTTTTTTTTTTTTTTTTTTTTTTTTTTTTTTTTTTTTTTTTTTTTTTTTTTTTTTTTTTTTTTTTTTTTTTTTTTTTTTTTTTTTTTTTTTTTTTTTTTTTTTTTTTTTTTTTTTTTTTTTTTTTTTTTTTTTTTTTTTTTTT\n",
      "SSSSSSSSSSSSSSSSSSSSSSSSSSSSSSSSSSSSSSSSSSSSSSSSSSSSSSSSSSSSSSSSSSSSSSSSSSSSSSSSSSSSSSSSSSSSSSSSSSSSSSSSSSSSSSSSSSSSSSSSSSSSSSSSSSSSSSSSSSSSSSSSSSSSSSSSSSSSSSSSSSSSSSSSSSSSSSSSSSSSSSSSSSSSSSSSSSSSSSSS\n",
      "domain number: 0, loss class: 0.0002715765494074384, acc class: 1.0, loss domain: 0.6758364864758083, \n"
     ]
    },
    {
     "name": "stderr",
     "output_type": "stream",
     "text": [
      "\n",
      " 70%|███████   | 21/30 [00:16<00:06,  1.32it/s]\u001b[A"
     ]
    },
    {
     "name": "stdout",
     "output_type": "stream",
     "text": [
      "domain number: 5, loss class: 0.00022340291720216295, acc class: 1.0, loss domain: 0.6789111495018005, \n",
      "SSSSSSSSSSSSSSSSSSSSSSSSSSSSSSSSSSSSSSSSSSSSSSSSSSSSSSSSSSSSSSSSSSSSSSSSSSSSSSSSSSSSSSSSSSSSSSSSSSSSSSSSSSSSSSSSSSSSSSSSSSSSSSSSSSSSSSSSSSSSSSSSSSSSSSSSSSSSSSSSSSSSSSSSSSSSSSSSSSSSSSSSSSSSSSSSSSSSSSSS\n",
      "TTTTTTTTTTTTTTTTTTTTTTTTTTTTTTTTTTTTTTTTTTTTTTTTTTTTTTTTTTTTTTTTTTTTTTTTTTTTTTTTTTTTTTTTTTTTTTTTTTTTTTTTTTTTTTTTTTTTTTTTTTTTTTTTTTTTTTTTTTTTTTTTTTTTTTTTTTTTTTTTTTTTTTTTTTTTTTTTTTTTTTTTTTTTTTTTTTTTTTTT\n",
      "Eval: Epoch: 20,domainTag=0, Loss: 4.2952, i_tgt_Acc: 0.2821 \n",
      "Eval: Epoch: 20,domainTag=5, Loss: 2.0955, i_tgt_Acc: 0.3590 \n",
      "--------------------------------------------------------------------------------------------------------------------------------------------------------------------------------------------------------\n",
      "Eval: Epoch: 20, after summing the logistic values from the domain [0, 5]，TGT_Acc: 0.2564\n",
      "TTTTTTTTTTTTTTTTTTTTTTTTTTTTTTTTTTTTTTTTTTTTTTTTTTTTTTTTTTTTTTTTTTTTTTTTTTTTTTTTTTTTTTTTTTTTTTTTTTTTTTTTTTTTTTTTTTTTTTTTTTTTTTTTTTTTTTTTTTTTTTTTTTTTTTTTTTTTTTTTTTTTTTTTTTTTTTTTTTTTTTTTTTTTTTTTTTTTTTTT\n",
      "SSSSSSSSSSSSSSSSSSSSSSSSSSSSSSSSSSSSSSSSSSSSSSSSSSSSSSSSSSSSSSSSSSSSSSSSSSSSSSSSSSSSSSSSSSSSSSSSSSSSSSSSSSSSSSSSSSSSSSSSSSSSSSSSSSSSSSSSSSSSSSSSSSSSSSSSSSSSSSSSSSSSSSSSSSSSSSSSSSSSSSSSSSSSSSSSSSSSSSSS\n",
      "domain number: 0, loss class: 0.00029284840032535914, acc class: 1.0, loss domain: 0.6769922489211673, \n"
     ]
    },
    {
     "name": "stderr",
     "output_type": "stream",
     "text": [
      "\n",
      " 73%|███████▎  | 22/30 [00:17<00:06,  1.32it/s]\u001b[A"
     ]
    },
    {
     "name": "stdout",
     "output_type": "stream",
     "text": [
      "domain number: 5, loss class: 0.0003075661987254751, acc class: 1.0, loss domain: 0.6812676446778434, \n",
      "SSSSSSSSSSSSSSSSSSSSSSSSSSSSSSSSSSSSSSSSSSSSSSSSSSSSSSSSSSSSSSSSSSSSSSSSSSSSSSSSSSSSSSSSSSSSSSSSSSSSSSSSSSSSSSSSSSSSSSSSSSSSSSSSSSSSSSSSSSSSSSSSSSSSSSSSSSSSSSSSSSSSSSSSSSSSSSSSSSSSSSSSSSSSSSSSSSSSSSSS\n",
      "TTTTTTTTTTTTTTTTTTTTTTTTTTTTTTTTTTTTTTTTTTTTTTTTTTTTTTTTTTTTTTTTTTTTTTTTTTTTTTTTTTTTTTTTTTTTTTTTTTTTTTTTTTTTTTTTTTTTTTTTTTTTTTTTTTTTTTTTTTTTTTTTTTTTTTTTTTTTTTTTTTTTTTTTTTTTTTTTTTTTTTTTTTTTTTTTTTTTTTTT\n",
      "Eval: Epoch: 21,domainTag=0, Loss: 4.6310, i_tgt_Acc: 0.3077 \n",
      "Eval: Epoch: 21,domainTag=5, Loss: 2.0300, i_tgt_Acc: 0.3846 \n",
      "--------------------------------------------------------------------------------------------------------------------------------------------------------------------------------------------------------\n",
      "Eval: Epoch: 21, after summing the logistic values from the domain [0, 5]，TGT_Acc: 0.2564\n",
      "TTTTTTTTTTTTTTTTTTTTTTTTTTTTTTTTTTTTTTTTTTTTTTTTTTTTTTTTTTTTTTTTTTTTTTTTTTTTTTTTTTTTTTTTTTTTTTTTTTTTTTTTTTTTTTTTTTTTTTTTTTTTTTTTTTTTTTTTTTTTTTTTTTTTTTTTTTTTTTTTTTTTTTTTTTTTTTTTTTTTTTTTTTTTTTTTTTTTTTTT\n",
      "SSSSSSSSSSSSSSSSSSSSSSSSSSSSSSSSSSSSSSSSSSSSSSSSSSSSSSSSSSSSSSSSSSSSSSSSSSSSSSSSSSSSSSSSSSSSSSSSSSSSSSSSSSSSSSSSSSSSSSSSSSSSSSSSSSSSSSSSSSSSSSSSSSSSSSSSSSSSSSSSSSSSSSSSSSSSSSSSSSSSSSSSSSSSSSSSSSSSSSSS\n",
      "domain number: 0, loss class: 0.0006311743317859336, acc class: 1.0, loss domain: 0.6802651484807333, \n"
     ]
    },
    {
     "name": "stderr",
     "output_type": "stream",
     "text": [
      "\n",
      " 77%|███████▋  | 23/30 [00:18<00:05,  1.32it/s]\u001b[A"
     ]
    },
    {
     "name": "stdout",
     "output_type": "stream",
     "text": [
      "domain number: 5, loss class: 0.0002719087750024517, acc class: 1.0, loss domain: 0.6834586433001927, \n",
      "SSSSSSSSSSSSSSSSSSSSSSSSSSSSSSSSSSSSSSSSSSSSSSSSSSSSSSSSSSSSSSSSSSSSSSSSSSSSSSSSSSSSSSSSSSSSSSSSSSSSSSSSSSSSSSSSSSSSSSSSSSSSSSSSSSSSSSSSSSSSSSSSSSSSSSSSSSSSSSSSSSSSSSSSSSSSSSSSSSSSSSSSSSSSSSSSSSSSSSSS\n",
      "TTTTTTTTTTTTTTTTTTTTTTTTTTTTTTTTTTTTTTTTTTTTTTTTTTTTTTTTTTTTTTTTTTTTTTTTTTTTTTTTTTTTTTTTTTTTTTTTTTTTTTTTTTTTTTTTTTTTTTTTTTTTTTTTTTTTTTTTTTTTTTTTTTTTTTTTTTTTTTTTTTTTTTTTTTTTTTTTTTTTTTTTTTTTTTTTTTTTTTTT\n",
      "Eval: Epoch: 22,domainTag=0, Loss: 4.0811, i_tgt_Acc: 0.3077 \n",
      "Eval: Epoch: 22,domainTag=5, Loss: 1.5885, i_tgt_Acc: 0.4872 \n",
      "--------------------------------------------------------------------------------------------------------------------------------------------------------------------------------------------------------\n",
      "Eval: Epoch: 22, after summing the logistic values from the domain [0, 5]，TGT_Acc: 0.4103\n",
      "TTTTTTTTTTTTTTTTTTTTTTTTTTTTTTTTTTTTTTTTTTTTTTTTTTTTTTTTTTTTTTTTTTTTTTTTTTTTTTTTTTTTTTTTTTTTTTTTTTTTTTTTTTTTTTTTTTTTTTTTTTTTTTTTTTTTTTTTTTTTTTTTTTTTTTTTTTTTTTTTTTTTTTTTTTTTTTTTTTTTTTTTTTTTTTTTTTTTTTTT\n",
      "SSSSSSSSSSSSSSSSSSSSSSSSSSSSSSSSSSSSSSSSSSSSSSSSSSSSSSSSSSSSSSSSSSSSSSSSSSSSSSSSSSSSSSSSSSSSSSSSSSSSSSSSSSSSSSSSSSSSSSSSSSSSSSSSSSSSSSSSSSSSSSSSSSSSSSSSSSSSSSSSSSSSSSSSSSSSSSSSSSSSSSSSSSSSSSSSSSSSSSSS\n",
      "domain number: 0, loss class: 0.0008791837289685472, acc class: 1.0, loss domain: 0.6803039198830014, \n"
     ]
    },
    {
     "name": "stderr",
     "output_type": "stream",
     "text": [
      "\n",
      " 80%|████████  | 24/30 [00:18<00:04,  1.32it/s]\u001b[A"
     ]
    },
    {
     "name": "stdout",
     "output_type": "stream",
     "text": [
      "domain number: 5, loss class: 0.0003519561266460057, acc class: 1.0, loss domain: 0.6871723561059861, \n",
      "SSSSSSSSSSSSSSSSSSSSSSSSSSSSSSSSSSSSSSSSSSSSSSSSSSSSSSSSSSSSSSSSSSSSSSSSSSSSSSSSSSSSSSSSSSSSSSSSSSSSSSSSSSSSSSSSSSSSSSSSSSSSSSSSSSSSSSSSSSSSSSSSSSSSSSSSSSSSSSSSSSSSSSSSSSSSSSSSSSSSSSSSSSSSSSSSSSSSSSSS\n",
      "TTTTTTTTTTTTTTTTTTTTTTTTTTTTTTTTTTTTTTTTTTTTTTTTTTTTTTTTTTTTTTTTTTTTTTTTTTTTTTTTTTTTTTTTTTTTTTTTTTTTTTTTTTTTTTTTTTTTTTTTTTTTTTTTTTTTTTTTTTTTTTTTTTTTTTTTTTTTTTTTTTTTTTTTTTTTTTTTTTTTTTTTTTTTTTTTTTTTTTTT\n",
      "Eval: Epoch: 23,domainTag=0, Loss: 4.3172, i_tgt_Acc: 0.3590 \n",
      "Eval: Epoch: 23,domainTag=5, Loss: 1.5881, i_tgt_Acc: 0.4872 \n",
      "--------------------------------------------------------------------------------------------------------------------------------------------------------------------------------------------------------\n",
      "Eval: Epoch: 23, after summing the logistic values from the domain [0, 5]，TGT_Acc: 0.4872\n",
      "TTTTTTTTTTTTTTTTTTTTTTTTTTTTTTTTTTTTTTTTTTTTTTTTTTTTTTTTTTTTTTTTTTTTTTTTTTTTTTTTTTTTTTTTTTTTTTTTTTTTTTTTTTTTTTTTTTTTTTTTTTTTTTTTTTTTTTTTTTTTTTTTTTTTTTTTTTTTTTTTTTTTTTTTTTTTTTTTTTTTTTTTTTTTTTTTTTTTTTTT\n",
      "SSSSSSSSSSSSSSSSSSSSSSSSSSSSSSSSSSSSSSSSSSSSSSSSSSSSSSSSSSSSSSSSSSSSSSSSSSSSSSSSSSSSSSSSSSSSSSSSSSSSSSSSSSSSSSSSSSSSSSSSSSSSSSSSSSSSSSSSSSSSSSSSSSSSSSSSSSSSSSSSSSSSSSSSSSSSSSSSSSSSSSSSSSSSSSSSSSSSSSSS\n",
      "domain number: 0, loss class: 0.000573644669202622, acc class: 1.0, loss domain: 0.6832690721466428, \n"
     ]
    },
    {
     "name": "stderr",
     "output_type": "stream",
     "text": [
      "\n",
      " 83%|████████▎ | 25/30 [00:19<00:03,  1.32it/s]\u001b[A"
     ]
    },
    {
     "name": "stdout",
     "output_type": "stream",
     "text": [
      "domain number: 5, loss class: 0.00028094427328878303, acc class: 1.0, loss domain: 0.688280619326092, \n",
      "SSSSSSSSSSSSSSSSSSSSSSSSSSSSSSSSSSSSSSSSSSSSSSSSSSSSSSSSSSSSSSSSSSSSSSSSSSSSSSSSSSSSSSSSSSSSSSSSSSSSSSSSSSSSSSSSSSSSSSSSSSSSSSSSSSSSSSSSSSSSSSSSSSSSSSSSSSSSSSSSSSSSSSSSSSSSSSSSSSSSSSSSSSSSSSSSSSSSSSSS\n",
      "TTTTTTTTTTTTTTTTTTTTTTTTTTTTTTTTTTTTTTTTTTTTTTTTTTTTTTTTTTTTTTTTTTTTTTTTTTTTTTTTTTTTTTTTTTTTTTTTTTTTTTTTTTTTTTTTTTTTTTTTTTTTTTTTTTTTTTTTTTTTTTTTTTTTTTTTTTTTTTTTTTTTTTTTTTTTTTTTTTTTTTTTTTTTTTTTTTTTTTTT\n",
      "Eval: Epoch: 24,domainTag=0, Loss: 5.6461, i_tgt_Acc: 0.3077 \n",
      "Eval: Epoch: 24,domainTag=5, Loss: 1.4263, i_tgt_Acc: 0.5385 \n",
      "--------------------------------------------------------------------------------------------------------------------------------------------------------------------------------------------------------\n",
      "Eval: Epoch: 24, after summing the logistic values from the domain [0, 5]，TGT_Acc: 0.3846\n",
      "TTTTTTTTTTTTTTTTTTTTTTTTTTTTTTTTTTTTTTTTTTTTTTTTTTTTTTTTTTTTTTTTTTTTTTTTTTTTTTTTTTTTTTTTTTTTTTTTTTTTTTTTTTTTTTTTTTTTTTTTTTTTTTTTTTTTTTTTTTTTTTTTTTTTTTTTTTTTTTTTTTTTTTTTTTTTTTTTTTTTTTTTTTTTTTTTTTTTTTTT\n",
      "SSSSSSSSSSSSSSSSSSSSSSSSSSSSSSSSSSSSSSSSSSSSSSSSSSSSSSSSSSSSSSSSSSSSSSSSSSSSSSSSSSSSSSSSSSSSSSSSSSSSSSSSSSSSSSSSSSSSSSSSSSSSSSSSSSSSSSSSSSSSSSSSSSSSSSSSSSSSSSSSSSSSSSSSSSSSSSSSSSSSSSSSSSSSSSSSSSSSSSSS\n",
      "domain number: 0, loss class: 0.00027264152456718007, acc class: 1.0, loss domain: 0.6835371454556783, \n"
     ]
    },
    {
     "name": "stderr",
     "output_type": "stream",
     "text": [
      "\n",
      " 87%|████████▋ | 26/30 [00:20<00:03,  1.33it/s]\u001b[A"
     ]
    },
    {
     "name": "stdout",
     "output_type": "stream",
     "text": [
      "domain number: 5, loss class: 0.0002561668616614216, acc class: 1.0, loss domain: 0.6930056299482074, \n",
      "SSSSSSSSSSSSSSSSSSSSSSSSSSSSSSSSSSSSSSSSSSSSSSSSSSSSSSSSSSSSSSSSSSSSSSSSSSSSSSSSSSSSSSSSSSSSSSSSSSSSSSSSSSSSSSSSSSSSSSSSSSSSSSSSSSSSSSSSSSSSSSSSSSSSSSSSSSSSSSSSSSSSSSSSSSSSSSSSSSSSSSSSSSSSSSSSSSSSSSSS\n",
      "TTTTTTTTTTTTTTTTTTTTTTTTTTTTTTTTTTTTTTTTTTTTTTTTTTTTTTTTTTTTTTTTTTTTTTTTTTTTTTTTTTTTTTTTTTTTTTTTTTTTTTTTTTTTTTTTTTTTTTTTTTTTTTTTTTTTTTTTTTTTTTTTTTTTTTTTTTTTTTTTTTTTTTTTTTTTTTTTTTTTTTTTTTTTTTTTTTTTTTTT\n",
      "Eval: Epoch: 25,domainTag=0, Loss: 5.0062, i_tgt_Acc: 0.3590 \n",
      "Eval: Epoch: 25,domainTag=5, Loss: 1.3923, i_tgt_Acc: 0.5641 \n",
      "--------------------------------------------------------------------------------------------------------------------------------------------------------------------------------------------------------\n",
      "Eval: Epoch: 25, after summing the logistic values from the domain [0, 5]，TGT_Acc: 0.4872\n",
      "TTTTTTTTTTTTTTTTTTTTTTTTTTTTTTTTTTTTTTTTTTTTTTTTTTTTTTTTTTTTTTTTTTTTTTTTTTTTTTTTTTTTTTTTTTTTTTTTTTTTTTTTTTTTTTTTTTTTTTTTTTTTTTTTTTTTTTTTTTTTTTTTTTTTTTTTTTTTTTTTTTTTTTTTTTTTTTTTTTTTTTTTTTTTTTTTTTTTTTTT\n",
      "SSSSSSSSSSSSSSSSSSSSSSSSSSSSSSSSSSSSSSSSSSSSSSSSSSSSSSSSSSSSSSSSSSSSSSSSSSSSSSSSSSSSSSSSSSSSSSSSSSSSSSSSSSSSSSSSSSSSSSSSSSSSSSSSSSSSSSSSSSSSSSSSSSSSSSSSSSSSSSSSSSSSSSSSSSSSSSSSSSSSSSSSSSSSSSSSSSSSSSSS\n",
      "domain number: 0, loss class: 0.00022608756678112383, acc class: 1.0, loss domain: 0.688489039738973, \n"
     ]
    },
    {
     "name": "stderr",
     "output_type": "stream",
     "text": [
      "\n",
      " 90%|█████████ | 27/30 [00:21<00:02,  1.34it/s]\u001b[A"
     ]
    },
    {
     "name": "stdout",
     "output_type": "stream",
     "text": [
      "domain number: 5, loss class: 0.00031578191694626144, acc class: 1.0, loss domain: 0.6948509216308594, \n",
      "SSSSSSSSSSSSSSSSSSSSSSSSSSSSSSSSSSSSSSSSSSSSSSSSSSSSSSSSSSSSSSSSSSSSSSSSSSSSSSSSSSSSSSSSSSSSSSSSSSSSSSSSSSSSSSSSSSSSSSSSSSSSSSSSSSSSSSSSSSSSSSSSSSSSSSSSSSSSSSSSSSSSSSSSSSSSSSSSSSSSSSSSSSSSSSSSSSSSSSSS\n",
      "TTTTTTTTTTTTTTTTTTTTTTTTTTTTTTTTTTTTTTTTTTTTTTTTTTTTTTTTTTTTTTTTTTTTTTTTTTTTTTTTTTTTTTTTTTTTTTTTTTTTTTTTTTTTTTTTTTTTTTTTTTTTTTTTTTTTTTTTTTTTTTTTTTTTTTTTTTTTTTTTTTTTTTTTTTTTTTTTTTTTTTTTTTTTTTTTTTTTTTTT\n",
      "Eval: Epoch: 26,domainTag=0, Loss: 5.4218, i_tgt_Acc: 0.3846 \n",
      "Eval: Epoch: 26,domainTag=5, Loss: 1.3192, i_tgt_Acc: 0.6667 \n",
      "--------------------------------------------------------------------------------------------------------------------------------------------------------------------------------------------------------\n",
      "Eval: Epoch: 26, after summing the logistic values from the domain [0, 5]，TGT_Acc: 0.4103\n",
      "TTTTTTTTTTTTTTTTTTTTTTTTTTTTTTTTTTTTTTTTTTTTTTTTTTTTTTTTTTTTTTTTTTTTTTTTTTTTTTTTTTTTTTTTTTTTTTTTTTTTTTTTTTTTTTTTTTTTTTTTTTTTTTTTTTTTTTTTTTTTTTTTTTTTTTTTTTTTTTTTTTTTTTTTTTTTTTTTTTTTTTTTTTTTTTTTTTTTTTTT\n",
      "SSSSSSSSSSSSSSSSSSSSSSSSSSSSSSSSSSSSSSSSSSSSSSSSSSSSSSSSSSSSSSSSSSSSSSSSSSSSSSSSSSSSSSSSSSSSSSSSSSSSSSSSSSSSSSSSSSSSSSSSSSSSSSSSSSSSSSSSSSSSSSSSSSSSSSSSSSSSSSSSSSSSSSSSSSSSSSSSSSSSSSSSSSSSSSSSSSSSSSSS\n",
      "domain number: 0, loss class: 0.00039485279332785426, acc class: 1.0, loss domain: 0.6924919031915211, \n"
     ]
    },
    {
     "name": "stderr",
     "output_type": "stream",
     "text": [
      "\n",
      " 93%|█████████▎| 28/30 [00:21<00:01,  1.35it/s]\u001b[A"
     ]
    },
    {
     "name": "stdout",
     "output_type": "stream",
     "text": [
      "domain number: 5, loss class: 0.0003027744740912957, acc class: 1.0, loss domain: 0.6967885891596476, \n",
      "SSSSSSSSSSSSSSSSSSSSSSSSSSSSSSSSSSSSSSSSSSSSSSSSSSSSSSSSSSSSSSSSSSSSSSSSSSSSSSSSSSSSSSSSSSSSSSSSSSSSSSSSSSSSSSSSSSSSSSSSSSSSSSSSSSSSSSSSSSSSSSSSSSSSSSSSSSSSSSSSSSSSSSSSSSSSSSSSSSSSSSSSSSSSSSSSSSSSSSSS\n",
      "TTTTTTTTTTTTTTTTTTTTTTTTTTTTTTTTTTTTTTTTTTTTTTTTTTTTTTTTTTTTTTTTTTTTTTTTTTTTTTTTTTTTTTTTTTTTTTTTTTTTTTTTTTTTTTTTTTTTTTTTTTTTTTTTTTTTTTTTTTTTTTTTTTTTTTTTTTTTTTTTTTTTTTTTTTTTTTTTTTTTTTTTTTTTTTTTTTTTTTTT\n",
      "Eval: Epoch: 27,domainTag=0, Loss: 5.7335, i_tgt_Acc: 0.4359 \n",
      "Eval: Epoch: 27,domainTag=5, Loss: 1.2673, i_tgt_Acc: 0.6923 \n",
      "--------------------------------------------------------------------------------------------------------------------------------------------------------------------------------------------------------\n",
      "Eval: Epoch: 27, after summing the logistic values from the domain [0, 5]，TGT_Acc: 0.5641\n",
      "TTTTTTTTTTTTTTTTTTTTTTTTTTTTTTTTTTTTTTTTTTTTTTTTTTTTTTTTTTTTTTTTTTTTTTTTTTTTTTTTTTTTTTTTTTTTTTTTTTTTTTTTTTTTTTTTTTTTTTTTTTTTTTTTTTTTTTTTTTTTTTTTTTTTTTTTTTTTTTTTTTTTTTTTTTTTTTTTTTTTTTTTTTTTTTTTTTTTTTTT\n",
      "SSSSSSSSSSSSSSSSSSSSSSSSSSSSSSSSSSSSSSSSSSSSSSSSSSSSSSSSSSSSSSSSSSSSSSSSSSSSSSSSSSSSSSSSSSSSSSSSSSSSSSSSSSSSSSSSSSSSSSSSSSSSSSSSSSSSSSSSSSSSSSSSSSSSSSSSSSSSSSSSSSSSSSSSSSSSSSSSSSSSSSSSSSSSSSSSSSSSSSSS\n",
      "domain number: 0, loss class: 0.0005165447329913842, acc class: 1.0, loss domain: 0.6981083183061509, \n"
     ]
    },
    {
     "name": "stderr",
     "output_type": "stream",
     "text": [
      "\n",
      " 97%|█████████▋| 29/30 [00:22<00:00,  1.36it/s]\u001b[A"
     ]
    },
    {
     "name": "stdout",
     "output_type": "stream",
     "text": [
      "domain number: 5, loss class: 0.0003717281282920989, acc class: 1.0, loss domain: 0.7009770018713815, \n",
      "SSSSSSSSSSSSSSSSSSSSSSSSSSSSSSSSSSSSSSSSSSSSSSSSSSSSSSSSSSSSSSSSSSSSSSSSSSSSSSSSSSSSSSSSSSSSSSSSSSSSSSSSSSSSSSSSSSSSSSSSSSSSSSSSSSSSSSSSSSSSSSSSSSSSSSSSSSSSSSSSSSSSSSSSSSSSSSSSSSSSSSSSSSSSSSSSSSSSSSSS\n",
      "TTTTTTTTTTTTTTTTTTTTTTTTTTTTTTTTTTTTTTTTTTTTTTTTTTTTTTTTTTTTTTTTTTTTTTTTTTTTTTTTTTTTTTTTTTTTTTTTTTTTTTTTTTTTTTTTTTTTTTTTTTTTTTTTTTTTTTTTTTTTTTTTTTTTTTTTTTTTTTTTTTTTTTTTTTTTTTTTTTTTTTTTTTTTTTTTTTTTTTTT\n",
      "Eval: Epoch: 28,domainTag=0, Loss: 6.4199, i_tgt_Acc: 0.4872 \n",
      "Eval: Epoch: 28,domainTag=5, Loss: 1.1743, i_tgt_Acc: 0.7179 \n",
      "--------------------------------------------------------------------------------------------------------------------------------------------------------------------------------------------------------\n",
      "Eval: Epoch: 28, after summing the logistic values from the domain [0, 5]，TGT_Acc: 0.5641\n",
      "TTTTTTTTTTTTTTTTTTTTTTTTTTTTTTTTTTTTTTTTTTTTTTTTTTTTTTTTTTTTTTTTTTTTTTTTTTTTTTTTTTTTTTTTTTTTTTTTTTTTTTTTTTTTTTTTTTTTTTTTTTTTTTTTTTTTTTTTTTTTTTTTTTTTTTTTTTTTTTTTTTTTTTTTTTTTTTTTTTTTTTTTTTTTTTTTTTTTTTTT\n",
      "SSSSSSSSSSSSSSSSSSSSSSSSSSSSSSSSSSSSSSSSSSSSSSSSSSSSSSSSSSSSSSSSSSSSSSSSSSSSSSSSSSSSSSSSSSSSSSSSSSSSSSSSSSSSSSSSSSSSSSSSSSSSSSSSSSSSSSSSSSSSSSSSSSSSSSSSSSSSSSSSSSSSSSSSSSSSSSSSSSSSSSSSSSSSSSSSSSSSSSSS\n",
      "domain number: 0, loss class: 0.0002860710718821446, acc class: 1.0, loss domain: 0.7030967473983765, \n"
     ]
    },
    {
     "name": "stderr",
     "output_type": "stream",
     "text": [
      "\n",
      "100%|██████████| 30/30 [00:23<00:00,  1.29it/s]\u001b[A\n",
      "100%|██████████| 1/1 [00:23<00:00, 23.55s/it]"
     ]
    },
    {
     "name": "stdout",
     "output_type": "stream",
     "text": [
      "domain number: 5, loss class: 0.0003270499326477182, acc class: 1.0, loss domain: 0.7019833014124915, \n",
      "SSSSSSSSSSSSSSSSSSSSSSSSSSSSSSSSSSSSSSSSSSSSSSSSSSSSSSSSSSSSSSSSSSSSSSSSSSSSSSSSSSSSSSSSSSSSSSSSSSSSSSSSSSSSSSSSSSSSSSSSSSSSSSSSSSSSSSSSSSSSSSSSSSSSSSSSSSSSSSSSSSSSSSSSSSSSSSSSSSSSSSSSSSSSSSSSSSSSSSSS\n",
      "TTTTTTTTTTTTTTTTTTTTTTTTTTTTTTTTTTTTTTTTTTTTTTTTTTTTTTTTTTTTTTTTTTTTTTTTTTTTTTTTTTTTTTTTTTTTTTTTTTTTTTTTTTTTTTTTTTTTTTTTTTTTTTTTTTTTTTTTTTTTTTTTTTTTTTTTTTTTTTTTTTTTTTTTTTTTTTTTTTTTTTTTTTTTTTTTTTTTTTTT\n",
      "Eval: Epoch: 29,domainTag=0, Loss: 6.9464, i_tgt_Acc: 0.5641 \n",
      "Eval: Epoch: 29,domainTag=5, Loss: 1.1813, i_tgt_Acc: 0.7436 \n",
      "--------------------------------------------------------------------------------------------------------------------------------------------------------------------------------------------------------\n",
      "Eval: Epoch: 29, after summing the logistic values from the domain [0, 5]，TGT_Acc: 0.5385\n",
      "TTTTTTTTTTTTTTTTTTTTTTTTTTTTTTTTTTTTTTTTTTTTTTTTTTTTTTTTTTTTTTTTTTTTTTTTTTTTTTTTTTTTTTTTTTTTTTTTTTTTTTTTTTTTTTTTTTTTTTTTTTTTTTTTTTTTTTTTTTTTTTTTTTTTTTTTTTTTTTTTTTTTTTTTTTTTTTTTTTTTTTTTTTTTTTTTTTTTTTTT\n",
      "####################################################################################################\n",
      "i=1, tgt_acc=0.5384615384615384 ,src_acc=1.0,true_label=0\n",
      "####################################################################################################\n"
     ]
    },
    {
     "name": "stderr",
     "output_type": "stream",
     "text": [
      "\n"
     ]
    }
   ],
   "source": [
    "tgt_acclist,src_accList,true_labelList=myNet(device=device,totalDataset=totaldataset,args=args,domain_num=len(element_count.items()),pre_filename=folder_path,centers=centers )  "
   ]
  },
  {
   "cell_type": "code",
   "execution_count": null,
   "id": "5b0bc522-a4bc-4449-bd60-671e3b507217",
   "metadata": {},
   "outputs": [],
   "source": []
  }
 ],
 "metadata": {
  "kernelspec": {
   "display_name": "Python 3 (ipykernel)",
   "language": "python",
   "name": "python3"
  },
  "language_info": {
   "codemirror_mode": {
    "name": "ipython",
    "version": 3
   },
   "file_extension": ".py",
   "mimetype": "text/x-python",
   "name": "python",
   "nbconvert_exporter": "python",
   "pygments_lexer": "ipython3",
   "version": "3.8.10"
  }
 },
 "nbformat": 4,
 "nbformat_minor": 5
}
